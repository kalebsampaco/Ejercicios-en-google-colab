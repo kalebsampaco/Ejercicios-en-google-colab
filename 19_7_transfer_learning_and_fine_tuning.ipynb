{
  "nbformat": 4,
  "nbformat_minor": 0,
  "metadata": {
    "colab": {
      "name": "19.7 transfer_learning_and_fine_tuning.ipynb",
      "provenance": [],
      "collapsed_sections": [],
      "authorship_tag": "ABX9TyMdHagVxs3S7ROW1oIB9r6M",
      "include_colab_link": true
    },
    "kernelspec": {
      "name": "python3",
      "display_name": "Python 3"
    }
  },
  "cells": [
    {
      "cell_type": "markdown",
      "metadata": {
        "id": "view-in-github",
        "colab_type": "text"
      },
      "source": [
        "<a href=\"https://colab.research.google.com/github/kalebsampaco/Ejercicios-en-google-colab/blob/master/19_7_transfer_learning_and_fine_tuning.ipynb\" target=\"_parent\"><img src=\"https://colab.research.google.com/assets/colab-badge.svg\" alt=\"Open In Colab\"/></a>"
      ]
    },
    {
      "cell_type": "code",
      "metadata": {
        "id": "abSiteyq9075",
        "colab_type": "code",
        "colab": {
          "base_uri": "https://localhost:8080/",
          "height": 901
        },
        "outputId": "270c2771-aa9b-468e-8644-903458d69d12"
      },
      "source": [
        "import tensorflow as tf\n",
        "import numpy as np\n",
        "import keras\n",
        "from keras.datasets import cifar10\n",
        "from keras.models import Sequential,Model\n",
        "from keras.layers import Dense,Dropout,Flatten,Conv2D,MaxPooling2D,Input\n",
        "from keras import backend as K\n",
        "from keras.callbacks import TensorBoard\n",
        "from keras.optimizers import SGD,Adam\n",
        "from keras.applications import vgg16,resnet50,inception_resnet_v2,inception_v3,xception\n",
        "from keras_preprocessing import image\n",
        "import matplotlib.pylab as plt\n",
        "\n",
        "batch_size=100\n",
        "num_classes=10\n",
        "epochs=50\n",
        "\n",
        "\n",
        "TRANSFER_LEARNING=1\n",
        "FINE_TUNING=0\n",
        "if(TRANSFER_LEARNING):\n",
        "      image_input = Input(shape=(224,224,3))\n",
        "      modelo=vgg16.VGG16(weights='imagenet',include_top=False,input_shape=(224,224,3))\n",
        "      for layer in modelo.layers[:]:\n",
        "        layer.trainable = False\n",
        "      x=modelo.output\n",
        "      x=Flatten()(x)\n",
        "      x=Dense(1000)(x)\n",
        "      x=Dense(100)(x)\n",
        "      modelo = Model(inputs=modelo.input, outputs=x)\n",
        "      modelo.summary()\n",
        "      \n",
        "if(FINE_TUNING):\n",
        "      image_input = Input(shape=(224,224,3))\n",
        "      modelo=vgg16.VGG16(weights='imagenet',include_top=False,input_shape=(224,224,3))\n",
        "      x=modelo.output\n",
        "      x=Flatten()(x)\n",
        "      x=Dense(1000,activation='relu')(x)\n",
        "      x=Dense(100,activation='softmax')(x)\n",
        "      modelo = Model(inputs=modelo.input, outputs=x)\n",
        "      modelo.summary()\n"
      ],
      "execution_count": 2,
      "outputs": [
        {
          "output_type": "stream",
          "text": [
            "Model: \"model_2\"\n",
            "_________________________________________________________________\n",
            "Layer (type)                 Output Shape              Param #   \n",
            "=================================================================\n",
            "input_4 (InputLayer)         (None, 224, 224, 3)       0         \n",
            "_________________________________________________________________\n",
            "block1_conv1 (Conv2D)        (None, 224, 224, 64)      1792      \n",
            "_________________________________________________________________\n",
            "block1_conv2 (Conv2D)        (None, 224, 224, 64)      36928     \n",
            "_________________________________________________________________\n",
            "block1_pool (MaxPooling2D)   (None, 112, 112, 64)      0         \n",
            "_________________________________________________________________\n",
            "block2_conv1 (Conv2D)        (None, 112, 112, 128)     73856     \n",
            "_________________________________________________________________\n",
            "block2_conv2 (Conv2D)        (None, 112, 112, 128)     147584    \n",
            "_________________________________________________________________\n",
            "block2_pool (MaxPooling2D)   (None, 56, 56, 128)       0         \n",
            "_________________________________________________________________\n",
            "block3_conv1 (Conv2D)        (None, 56, 56, 256)       295168    \n",
            "_________________________________________________________________\n",
            "block3_conv2 (Conv2D)        (None, 56, 56, 256)       590080    \n",
            "_________________________________________________________________\n",
            "block3_conv3 (Conv2D)        (None, 56, 56, 256)       590080    \n",
            "_________________________________________________________________\n",
            "block3_pool (MaxPooling2D)   (None, 28, 28, 256)       0         \n",
            "_________________________________________________________________\n",
            "block4_conv1 (Conv2D)        (None, 28, 28, 512)       1180160   \n",
            "_________________________________________________________________\n",
            "block4_conv2 (Conv2D)        (None, 28, 28, 512)       2359808   \n",
            "_________________________________________________________________\n",
            "block4_conv3 (Conv2D)        (None, 28, 28, 512)       2359808   \n",
            "_________________________________________________________________\n",
            "block4_pool (MaxPooling2D)   (None, 14, 14, 512)       0         \n",
            "_________________________________________________________________\n",
            "block5_conv1 (Conv2D)        (None, 14, 14, 512)       2359808   \n",
            "_________________________________________________________________\n",
            "block5_conv2 (Conv2D)        (None, 14, 14, 512)       2359808   \n",
            "_________________________________________________________________\n",
            "block5_conv3 (Conv2D)        (None, 14, 14, 512)       2359808   \n",
            "_________________________________________________________________\n",
            "block5_pool (MaxPooling2D)   (None, 7, 7, 512)         0         \n",
            "_________________________________________________________________\n",
            "flatten_2 (Flatten)          (None, 25088)             0         \n",
            "_________________________________________________________________\n",
            "dense_3 (Dense)              (None, 1000)              25089000  \n",
            "_________________________________________________________________\n",
            "dense_4 (Dense)              (None, 100)               100100    \n",
            "=================================================================\n",
            "Total params: 39,903,788\n",
            "Trainable params: 25,189,100\n",
            "Non-trainable params: 14,714,688\n",
            "_________________________________________________________________\n"
          ],
          "name": "stdout"
        }
      ]
    },
    {
      "cell_type": "code",
      "metadata": {
        "id": "9VaRWkqJ_Q5l",
        "colab_type": "code",
        "colab": {}
      },
      "source": [
        ""
      ],
      "execution_count": 0,
      "outputs": []
    }
  ]
}