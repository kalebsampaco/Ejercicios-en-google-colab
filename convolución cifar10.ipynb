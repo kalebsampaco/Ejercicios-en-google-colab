{
  "nbformat": 4,
  "nbformat_minor": 0,
  "metadata": {
    "colab": {
      "name": "Untitled2.ipynb",
      "provenance": [],
      "authorship_tag": "ABX9TyM7qbJlL7iIVDmRwMS44qkd",
      "include_colab_link": true
    },
    "kernelspec": {
      "name": "python3",
      "display_name": "Python 3"
    }
  },
  "cells": [
    {
      "cell_type": "markdown",
      "metadata": {
        "id": "view-in-github",
        "colab_type": "text"
      },
      "source": [
        "<a href=\"https://colab.research.google.com/github/kalebsampaco/Ejercicios-en-google-colab/blob/master/convoluci%C3%B3n%20cifar10.ipynb\" target=\"_parent\"><img src=\"https://colab.research.google.com/assets/colab-badge.svg\" alt=\"Open In Colab\"/></a>"
      ]
    },
    {
      "cell_type": "code",
      "metadata": {
        "id": "ZQpqiAZpjd10",
        "colab_type": "code",
        "colab": {
          "base_uri": "https://localhost:8080/",
          "height": 207
        },
        "outputId": "4152bebb-75d8-44f6-b732-05ec5f8edeb3"
      },
      "source": [
        "import tensorflow as tf\n",
        "import numpy as np\n",
        "import tensorflow.keras\n",
        "from tensorflow.keras.datasets import cifar10\n",
        "from tensorflow.keras.models import Sequential,Model\n",
        "from tensorflow.keras.layers import Dense,Dropout,Flatten,Conv2D,MaxPooling2D,Input\n",
        "from tensorflow.keras import backend as K\n",
        "from tensorflow.keras.callbacks import TensorBoard\n",
        "from tensorflow.keras.optimizers import SGD,Adam\n",
        "from tensorflow.keras.applications import VGG16\n",
        "\n",
        "batch_size=100\n",
        "num_classes=10\n",
        "epochs=30\n",
        "\n",
        "\n",
        "(xt,yt),(xtest,ytest)= cifar10.load_data()\n",
        "\n",
        "_,filas, columnas, canales = xt.shape\n",
        "\n",
        "xt=xt.astype('float32')\n",
        "xtest=xtest.astype('float32')\n",
        "\n",
        "xt=xt/255\n",
        "xtest=xtest/255\n",
        "\n",
        "yt=tensorflow.keras.utils.to_categorical(yt,num_classes)\n",
        "ytest=tensorflow.keras.utils.to_categorical(ytest,num_classes)\n",
        "\n",
        "Basica=1\n",
        "if(Basica==1):\n",
        "  Entradas=Input(shape=(filas,columnas,canales))\n",
        "  x=Conv2D(64,kernel_size=(3,3),activation='relu')(Entradas)\n",
        "  x=Conv2D(128,kernel_size=(3,3),activation='relu')(x)\n",
        "  x=MaxPooling2D(pool_size=(2,2))(x)\n",
        "  x=Flatten()(x)\n",
        "  x=Dense(10,activation='relu')(x)\n",
        "  x=Dense(num_classes,activation='softmax')(x)\n",
        "if(Basica==0):\n",
        "  Entradas=Input(shape=(filas,columnas,canales))\n",
        "  x = Conv2D(64, (3, 3), activation='relu', padding='same', name='block1_conv1')(Entradas)\n",
        "  #x=Dropout(0.25)(x)\n",
        "  x = Conv2D(64, (3, 3), activation='relu', padding='same', name='block1_conv2')(x)\n",
        "  x = MaxPooling2D((2, 2), name='block1_pool')(x)\n",
        " \n",
        "\n",
        "  x = Conv2D(128, (3, 3), activation='relu', padding='same', name='block2_conv1')(x)\n",
        "  #x=Dropout(0.25)(x)\n",
        "  x = Conv2D(128, (3, 3), activation='relu', padding='same', name='block2_conv2')(x)\n",
        "  x = MaxPooling2D((2, 2), name='block2_pool')(x)\n",
        "\n",
        "  x=Flatten()(x)\n",
        "  x=Dense(512,activation='relu')(x)\n",
        "  x=Dropout(0.5)(x)\n",
        "  x=Dense(num_classes,activation='softmax')(x)\n",
        "\n",
        "modelo = Model(inputs=Entradas, outputs=x)\n",
        "#modelo.summary()\n",
        "descenso_gradiente_estocastico = Adam(lr=0.001,beta_1=0.9,beta_2=0.9)#SGD(lr=0.001, decay=1e-6, momentum=0.9, nesterov=True)\n",
        "def top3(y_true, y_pred):\n",
        "    return tensorflow.keras.metrics.top_k_categorical_accuracy(y_true, y_pred, k=3)\n",
        "\n",
        "modelo.compile(loss=tensorflow.keras.losses.categorical_crossentropy,optimizer=descenso_gradiente_estocastico,metrics=['categorical_accuracy'])\n",
        "\n",
        "modelo.fit(xt,yt,batch_size=batch_size,epochs=epochs,verbose=1,validation_data=(xtest,ytest))\n",
        "\n",
        "puntuacion=modelo.evaluate(xtest,ytest,verbose=1)\n",
        "\n",
        "print(puntuacion)\n"
      ],
      "execution_count": 0,
      "outputs": [
        {
          "output_type": "stream",
          "text": [
            "Downloading data from https://www.cs.toronto.edu/~kriz/cifar-10-python.tar.gz\n",
            "170500096/170498071 [==============================] - 6s 0us/step\n",
            "Epoch 1/30\n",
            "500/500 [==============================] - 316s 633ms/step - loss: 2.0352 - categorical_accuracy: 0.1990 - val_loss: 1.7755 - val_categorical_accuracy: 0.3109\n",
            "Epoch 2/30\n",
            "500/500 [==============================] - 316s 632ms/step - loss: 1.6722 - categorical_accuracy: 0.3381 - val_loss: 1.6092 - val_categorical_accuracy: 0.3619\n",
            "Epoch 3/30\n",
            "500/500 [==============================] - 314s 628ms/step - loss: 1.5461 - categorical_accuracy: 0.3888 - val_loss: 1.5046 - val_categorical_accuracy: 0.4117\n",
            "Epoch 4/30\n",
            " 39/500 [=>............................] - ETA: 4:29 - loss: 1.4710 - categorical_accuracy: 0.4318"
          ],
          "name": "stdout"
        }
      ]
    }
  ]
}