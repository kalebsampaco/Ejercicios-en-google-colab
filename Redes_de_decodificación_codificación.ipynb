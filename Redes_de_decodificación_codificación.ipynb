{
  "nbformat": 4,
  "nbformat_minor": 0,
  "metadata": {
    "colab": {
      "name": "Redes de decodificación-codificación.ipynb",
      "provenance": [],
      "collapsed_sections": [],
      "authorship_tag": "ABX9TyOGQyiGUa0SjTD8ftk/D0Nv",
      "include_colab_link": true
    },
    "kernelspec": {
      "name": "python3",
      "display_name": "Python 3"
    }
  },
  "cells": [
    {
      "cell_type": "markdown",
      "metadata": {
        "id": "view-in-github",
        "colab_type": "text"
      },
      "source": [
        "<a href=\"https://colab.research.google.com/github/kalebsampaco/Ejercicios-en-google-colab/blob/master/Redes_de_decodificaci%C3%B3n_codificaci%C3%B3n.ipynb\" target=\"_parent\"><img src=\"https://colab.research.google.com/assets/colab-badge.svg\" alt=\"Open In Colab\"/></a>"
      ]
    },
    {
      "cell_type": "code",
      "metadata": {
        "id": "0MiXI4GAjeWo",
        "colab_type": "code",
        "colab": {
          "base_uri": "https://localhost:8080/",
          "height": 243
        },
        "outputId": "77b533bb-10ed-4a99-d70c-a2bfa78cfc58"
      },
      "source": [
        "import os\n",
        "import numpy as np\n",
        "import pandas as pd\n",
        "import cv2\n",
        "import matplotlib.pyplot as plt\n",
        "from sklearn.model_selection import train_test_split\n",
        "from keras.models import Model\n",
        "from keras.layers import *\n",
        "from keras.optimizers import Adam\n",
        "from keras.regularizers import l2\n",
        "from keras.preprocessing.image import ImageDataGenerator\n",
        "import keras.backend as K\n",
        "from keras.callbacks import LearningRateScheduler, ModelCheckpoint\n",
        "\n",
        "\n",
        "#CARGADO DE IMAGENES\n",
        "\n",
        "path_entradas = '/content/sample_data/2d_images'\n",
        "path_salidas = '/content/sample_data/2d_masks'\n",
        "alto, ancho = 32, 32\n",
        "\n",
        "imagenes = [x for x in sorted(os.listdir(path_entradas)) if x[-4:] == '.tif']\n",
        "\n",
        "entradas = np.empty((len(imagenes), alto, ancho), dtype='float32')\n",
        "for i, nombre in enumerate(imagenes):\n",
        "    imagen = cv2.imread(path_entradas + nombre, cv2.IMREAD_UNCHANGED).astype('int16').astype('float32')\n",
        "    imagen = cv2.resize(imagen, dsize=(ancho, alto), interpolation=cv2.INTER_CUBIC)\n",
        "    imagen = (imagen - np.min(imagen)) / (np.max(imagen) - np.min(imagen))\n",
        "    entradas[i] = imagen\n",
        "\n",
        "salidas = np.empty((len(imagenes), alto, ancho), dtype='float32')\n",
        "for i, nombre in enumerate(imagenes):\n",
        "    imagen = cv2.imread(path_salidas + nombre, cv2.IMREAD_UNCHANGED).astype('float32')/255.\n",
        "    imagen = cv2.resize(imagen, dsize=(ancho, alto), interpolation=cv2.INTER_NEAREST)\n",
        "    salidas[i] = imagen\n",
        "\n",
        "fig, ax = plt.subplots(1,2)\n",
        "ax[0].imshow(entradas[0], cmap='gray')\n",
        "ax[1].imshow(salidas[0], cmap='gray')\n",
        "plt.show()\n",
        "\n",
        "# ADAPTACION Y DIVISION DE SETS DE TEST Y ENTRENAMIENTO\n",
        "entradas = np.expand_dims(entradas,axis=3)\n",
        "salidas = np.expand_dims(salidas,axis=3)\n",
        "entradas_train, entradas_test, salidas_train, salidas_test = train_test_split(entradas, salidas, test_size = 0.2)\n",
        "\n",
        "\n",
        "#DEFINICION Y ENTRENAMIENTO DE MODELO\n",
        "\n",
        "entrada = Input(shape=entradas_train.shape[1:])\n",
        "x = Conv2D(filters=8, kernel_size=(3,3), activation='relu', padding='valid')(entrada)\n",
        "x = MaxPool2D(strides=(2,2))(x)\n",
        "x = Conv2D(filters=16, kernel_size=(3,3), activation='relu', padding='valid')(x)\n",
        "x = Conv2D(filters=32, kernel_size=(3,3), activation='relu', padding='valid')(x)\n",
        "\n",
        "x = Conv2DTranspose(filters=32, kernel_size=(3,3), activation='relu', padding='valid')(x)\n",
        "x = Conv2DTranspose(filters=16, kernel_size=(3,3), activation='relu', padding='valid')(x)\n",
        "x=UpSampling2D(2)(x)\n",
        "x = Conv2DTranspose(filters=8, kernel_size=(3,3), activation='relu',padding='valid')(x)\n",
        "salida = Conv2D(filters=1, kernel_size=(3,3), activation='sigmoid',padding='same')(x)\n",
        "                                                         \n",
        "modelo = Model(entrada,salida)\n",
        "modelo.summary()\n",
        "\n",
        "def generador_datos(entradas_train, salidas_train, batch):\n",
        "    generador_entradas = ImageDataGenerator(width_shift_range=0.1,height_shift_range=0.1,rotation_range=10,zoom_range=0.1).flow(entradas_train, entradas_train, batch,seed=42)\n",
        "    generador_salidas = ImageDataGenerator(width_shift_range=0.1,height_shift_range=0.1,rotation_range=10,zoom_range=0.1).flow(salidas_train, salidas_train, batch,seed=42)\n",
        "    while True:\n",
        "        entradas_batch, _ = generador_entradas.next()\n",
        "        salidas_batch, _ = generador_salidas.next()\n",
        "        yield entradas_batch, salidas_batch\n",
        "\n",
        "\n",
        "entradas_batch, salidas_batch = next(generador_datos(entradas_train, salidas_train, 8))\n",
        "\n",
        "modelo.compile(optimizer=Adam(2e-4), loss='binary_crossentropy', metrics=['accuracy'])\n",
        "\n",
        "hist = modelo.fit_generator(generador_datos(entradas_train, salidas_train, 8),steps_per_epoch = 200,validation_data = (entradas_test, salidas_test),epochs=10, verbose=2)\n",
        "\n",
        "#EVALUACION DE MODELO\n",
        "plt.figure(1)\n",
        "plt.plot(hist.history['loss'], color='b')\n",
        "plt.plot(hist.history['val_loss'], color='r')\n",
        "plt.figure(2)\n",
        "plt.plot(hist.history['acc'], color='b')\n",
        "plt.plot(hist.history['val_acc'], color='r')\n",
        "plt.show()\n",
        "\n",
        "prediccion = modelo.predict(entradas_test)\n",
        "fig, ax = plt.subplots(1,3,figsize=(12,6))\n",
        "ax[0].imshow(entradas_test[0,:,:,0], cmap='gray')\n",
        "ax[1].imshow(salidas_test[0,:,:,0])\n",
        "ax[2].imshow(prediccion[0,:,:,0])\n",
        "plt.show()\n"
      ],
      "execution_count": 3,
      "outputs": [
        {
          "output_type": "error",
          "ename": "AttributeError",
          "evalue": "ignored",
          "traceback": [
            "\u001b[0;31m---------------------------------------------------------------------------\u001b[0m",
            "\u001b[0;31mAttributeError\u001b[0m                            Traceback (most recent call last)",
            "\u001b[0;32m<ipython-input-3-3dd82461e074>\u001b[0m in \u001b[0;36m<module>\u001b[0;34m()\u001b[0m\n\u001b[1;32m     24\u001b[0m \u001b[0mentradas\u001b[0m \u001b[0;34m=\u001b[0m \u001b[0mnp\u001b[0m\u001b[0;34m.\u001b[0m\u001b[0mempty\u001b[0m\u001b[0;34m(\u001b[0m\u001b[0;34m(\u001b[0m\u001b[0mlen\u001b[0m\u001b[0;34m(\u001b[0m\u001b[0mimagenes\u001b[0m\u001b[0;34m)\u001b[0m\u001b[0;34m,\u001b[0m \u001b[0malto\u001b[0m\u001b[0;34m,\u001b[0m \u001b[0mancho\u001b[0m\u001b[0;34m)\u001b[0m\u001b[0;34m,\u001b[0m \u001b[0mdtype\u001b[0m\u001b[0;34m=\u001b[0m\u001b[0;34m'float32'\u001b[0m\u001b[0;34m)\u001b[0m\u001b[0;34m\u001b[0m\u001b[0;34m\u001b[0m\u001b[0m\n\u001b[1;32m     25\u001b[0m \u001b[0;32mfor\u001b[0m \u001b[0mi\u001b[0m\u001b[0;34m,\u001b[0m \u001b[0mnombre\u001b[0m \u001b[0;32min\u001b[0m \u001b[0menumerate\u001b[0m\u001b[0;34m(\u001b[0m\u001b[0mimagenes\u001b[0m\u001b[0;34m)\u001b[0m\u001b[0;34m:\u001b[0m\u001b[0;34m\u001b[0m\u001b[0;34m\u001b[0m\u001b[0m\n\u001b[0;32m---> 26\u001b[0;31m     \u001b[0mimagen\u001b[0m \u001b[0;34m=\u001b[0m \u001b[0mcv2\u001b[0m\u001b[0;34m.\u001b[0m\u001b[0mimread\u001b[0m\u001b[0;34m(\u001b[0m\u001b[0mpath_entradas\u001b[0m \u001b[0;34m+\u001b[0m \u001b[0mnombre\u001b[0m\u001b[0;34m,\u001b[0m \u001b[0mcv2\u001b[0m\u001b[0;34m.\u001b[0m\u001b[0mIMREAD_UNCHANGED\u001b[0m\u001b[0;34m)\u001b[0m\u001b[0;34m.\u001b[0m\u001b[0mastype\u001b[0m\u001b[0;34m(\u001b[0m\u001b[0;34m'int16'\u001b[0m\u001b[0;34m)\u001b[0m\u001b[0;34m.\u001b[0m\u001b[0mastype\u001b[0m\u001b[0;34m(\u001b[0m\u001b[0;34m'float32'\u001b[0m\u001b[0;34m)\u001b[0m\u001b[0;34m\u001b[0m\u001b[0;34m\u001b[0m\u001b[0m\n\u001b[0m\u001b[1;32m     27\u001b[0m     \u001b[0mimagen\u001b[0m \u001b[0;34m=\u001b[0m \u001b[0mcv2\u001b[0m\u001b[0;34m.\u001b[0m\u001b[0mresize\u001b[0m\u001b[0;34m(\u001b[0m\u001b[0mimagen\u001b[0m\u001b[0;34m,\u001b[0m \u001b[0mdsize\u001b[0m\u001b[0;34m=\u001b[0m\u001b[0;34m(\u001b[0m\u001b[0mancho\u001b[0m\u001b[0;34m,\u001b[0m \u001b[0malto\u001b[0m\u001b[0;34m)\u001b[0m\u001b[0;34m,\u001b[0m \u001b[0minterpolation\u001b[0m\u001b[0;34m=\u001b[0m\u001b[0mcv2\u001b[0m\u001b[0;34m.\u001b[0m\u001b[0mINTER_CUBIC\u001b[0m\u001b[0;34m)\u001b[0m\u001b[0;34m\u001b[0m\u001b[0;34m\u001b[0m\u001b[0m\n\u001b[1;32m     28\u001b[0m     \u001b[0mimagen\u001b[0m \u001b[0;34m=\u001b[0m \u001b[0;34m(\u001b[0m\u001b[0mimagen\u001b[0m \u001b[0;34m-\u001b[0m \u001b[0mnp\u001b[0m\u001b[0;34m.\u001b[0m\u001b[0mmin\u001b[0m\u001b[0;34m(\u001b[0m\u001b[0mimagen\u001b[0m\u001b[0;34m)\u001b[0m\u001b[0;34m)\u001b[0m \u001b[0;34m/\u001b[0m \u001b[0;34m(\u001b[0m\u001b[0mnp\u001b[0m\u001b[0;34m.\u001b[0m\u001b[0mmax\u001b[0m\u001b[0;34m(\u001b[0m\u001b[0mimagen\u001b[0m\u001b[0;34m)\u001b[0m \u001b[0;34m-\u001b[0m \u001b[0mnp\u001b[0m\u001b[0;34m.\u001b[0m\u001b[0mmin\u001b[0m\u001b[0;34m(\u001b[0m\u001b[0mimagen\u001b[0m\u001b[0;34m)\u001b[0m\u001b[0;34m)\u001b[0m\u001b[0;34m\u001b[0m\u001b[0;34m\u001b[0m\u001b[0m\n",
            "\u001b[0;31mAttributeError\u001b[0m: 'NoneType' object has no attribute 'astype'"
          ]
        }
      ]
    }
  ]
}