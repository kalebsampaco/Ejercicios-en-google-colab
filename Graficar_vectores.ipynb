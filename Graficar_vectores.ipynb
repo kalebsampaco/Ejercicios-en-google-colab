{
  "nbformat": 4,
  "nbformat_minor": 0,
  "metadata": {
    "colab": {
      "name": "Graficar vectores.ipynb",
      "provenance": [],
      "collapsed_sections": [],
      "authorship_tag": "ABX9TyPMHkvdSAZpFYpqWLTzDSNK",
      "include_colab_link": true
    },
    "kernelspec": {
      "name": "python3",
      "display_name": "Python 3"
    }
  },
  "cells": [
    {
      "cell_type": "markdown",
      "metadata": {
        "id": "view-in-github",
        "colab_type": "text"
      },
      "source": [
        "<a href=\"https://colab.research.google.com/github/kalebsampaco/Ejercicios-en-google-colab/blob/master/Graficar_vectores.ipynb\" target=\"_parent\"><img src=\"https://colab.research.google.com/assets/colab-badge.svg\" alt=\"Open In Colab\"/></a>"
      ]
    },
    {
      "cell_type": "code",
      "metadata": {
        "id": "aLMmoLiwlf1I",
        "colab_type": "code",
        "colab": {}
      },
      "source": [
        "def graficarVectores(vecs, cols, alpha=1):\n",
        "\n",
        "  plt.figure()\n",
        "  plt.axvline(x = 0, color = 'grey', zorder = 0)\n",
        "  plt.axhline(y = 0, color = 'grey', zorder = 0)\n",
        "\n",
        "  for i in range(len(vecs)):\n",
        "    x = np.concatenate([[0,0], vecs[i]])\n",
        "    plt.quiver([x[0]],\n",
        "               [x[1]],\n",
        "               [x[2]],\n",
        "               [x[3]],\n",
        "               angles='xy', scale_units='xy', scale=1,\n",
        "               color=cols[i],\n",
        "               alpha = alpha)\n"
      ],
      "execution_count": 1,
      "outputs": []
    },
    {
      "cell_type": "code",
      "metadata": {
        "id": "SY5z5rzjlya4",
        "colab_type": "code",
        "colab": {}
      },
      "source": [
        ""
      ],
      "execution_count": null,
      "outputs": []
    },
    {
      "cell_type": "markdown",
      "metadata": {
        "id": "gJVlitkul_1e",
        "colab_type": "text"
      },
      "source": [
        "# Sección nueva"
      ]
    }
  ]
}