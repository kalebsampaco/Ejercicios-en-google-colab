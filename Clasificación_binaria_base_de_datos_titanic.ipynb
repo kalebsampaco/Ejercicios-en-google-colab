{
  "nbformat": 4,
  "nbformat_minor": 0,
  "metadata": {
    "colab": {
      "name": "Clasificación binaria- base de datos titanic.ipynb",
      "provenance": [],
      "collapsed_sections": [],
      "authorship_tag": "ABX9TyOX5qzDradK/SsMMzUS68Yo",
      "include_colab_link": true
    },
    "kernelspec": {
      "name": "python3",
      "display_name": "Python 3"
    }
  },
  "cells": [
    {
      "cell_type": "markdown",
      "metadata": {
        "id": "view-in-github",
        "colab_type": "text"
      },
      "source": [
        "<a href=\"https://colab.research.google.com/github/kalebsampaco/Ejercicios-en-google-colab/blob/master/Clasificaci%C3%B3n_binaria_base_de_datos_titanic.ipynb\" target=\"_parent\"><img src=\"https://colab.research.google.com/assets/colab-badge.svg\" alt=\"Open In Colab\"/></a>"
      ]
    },
    {
      "cell_type": "code",
      "metadata": {
        "id": "z_b1GaOM8Bj1",
        "colab_type": "code",
        "colab": {}
      },
      "source": [
        "from tensorflow.keras.layers import Input, Flatten, Dense, Dropout, Reshape, PReLU,LeakyReLU,BatchNormalization,Activation\n",
        "from tensorflow.keras.models import Model\n",
        "import numpy as np\n",
        "import tensorflow.keras\n",
        "import tensorflow.keras.layers as layers\n",
        "import tensorflow.keras.backend as K\n",
        "import math\n",
        "from tensorflow.keras.models import load_model,Model\n",
        "import pandas as pd\n",
        "import matplotlib.pyplot as plt\n",
        "import tensorflow as tf\n",
        "\n",
        "\n",
        "traindata = pd.read_csv('D:/Cursos virtuales/machine learning/Deep Learning e Inteligencia artificial con KerasTensorflow/Deep Learning e Inteligencia artificial con KerasTensorflow/5. Redes Neuronales Convolucionales/train.csv')\n",
        "\n",
        "testdata = pd.read_csv('D:/Cursos virtuales/machine learning/Deep Learning e Inteligencia artificial con KerasTensorflow/Deep Learning e Inteligencia artificial con KerasTensorflow/5. Redes Neuronales Convolucionales/test.csv')\n",
        "\n",
        "def process_data(datos):\n",
        "    xt = datos[['Pclass','Sex', 'Age', 'SibSp', 'Parch', 'Fare']]\n",
        "    xt = xt.fillna(xt.mean())\n",
        "\n",
        "    xt.loc[:,'Sex'] = xt['Sex'].replace(['female','male'],[0,1]).values\n",
        "    xt.loc[:,'Pclass'] = xt.loc[:,'Pclass'] - 1\n",
        "\n",
        "    return xt\n",
        "\n",
        "xt = process_data(traindata)\n",
        "\n",
        "xtest = process_data(testdata)\n",
        "\n",
        "yt = traindata[\"Survived\"]\n",
        "ytonehot = tf.keras.utils.to_categorical(yt, num_classes=2)\n",
        "print(ytonehot)\n",
        "\n",
        "arraytrainx=np.array(xt)\n",
        "arraytrainy=np.array(yt)\n",
        "\n",
        "\n",
        "Entradas = Input(shape=(6,))\n",
        "x=Dense(200)(Entradas)\n",
        "x=BatchNormalization()(x)\n",
        "x=LeakyReLU(alpha=0.05)(x)\n",
        "#x=Dropout(0.15)(x)\n",
        "x=Dense(50)(x)\n",
        "x=BatchNormalization()(x)\n",
        "x=LeakyReLU(alpha=0.05)(x)\n",
        "#x=Dropout(0.1)(x)\n",
        "x=Dense(1)(x)\n",
        "x = Activation('sigmoid')(x)\n",
        "\n",
        "modelo = Model(inputs=Entradas, outputs=x)\n",
        "\n",
        "Guardado = tensorflow.keras.callbacks.ModelCheckpoint('titanic.h5', monitor='val_acc', verbose=0, save_best_only=True,save_weights_only=False, mode='auto', period=1)\n",
        "\n",
        "Adam = tensorflow.keras.optimizers.Adam(lr=0.0001,beta_1=0.9,beta_2=0.9)\n",
        "\n",
        "modelo.compile(optimizer=Adam,loss='binary_crossentropy',metrics=['accuracy'])\n",
        "history=modelo.fit(arraytrainx,arraytrainy ,epochs=400, batch_size=200,validation_split=0.2,callbacks=[Guardado],verbose=0)\n",
        "\n",
        "plt.figure(1)\n",
        "plt.plot(history.history['acc'])\n",
        "plt.plot(history.history['val_acc'])\n",
        "plt.title('Precision de Modelo')\n",
        "plt.ylabel('Precision')\n",
        "plt.xlabel('Epocas')\n",
        "plt.legend(['Entrenamiento', 'Test'], loc='upper left')\n",
        "\n",
        "\n",
        "plt.figure(2)\n",
        "plt.plot(history.history['loss'])\n",
        "plt.plot(history.history['val_loss'])\n",
        "plt.title('Perdidas de Modelo')\n",
        "plt.ylabel('Perdidas')\n",
        "plt.xlabel('Epocas')\n",
        "plt.legend(['Entrenamiento', 'Test'], loc='upper left')\n",
        "plt.show()\n"
      ],
      "execution_count": 0,
      "outputs": []
    }
  ]
}