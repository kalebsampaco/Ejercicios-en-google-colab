{
  "nbformat": 4,
  "nbformat_minor": 0,
  "metadata": {
    "colab": {
      "name": "escalares-vectores-matrice-Transpo.ipynb",
      "provenance": [],
      "collapsed_sections": [],
      "mount_file_id": "1CVX9jCovXDKk6O4VpA1JFvP3FlHIeBX4",
      "authorship_tag": "ABX9TyMjak4dEvr6kISG5PFUf9Fz",
      "include_colab_link": true
    },
    "kernelspec": {
      "name": "python3",
      "display_name": "Python 3"
    }
  },
  "cells": [
    {
      "cell_type": "markdown",
      "metadata": {
        "id": "view-in-github",
        "colab_type": "text"
      },
      "source": [
        "<a href=\"https://colab.research.google.com/github/kalebsampaco/Ejercicios-en-google-colab/blob/master/escalares_vectores_matrice_Transpo.ipynb\" target=\"_parent\"><img src=\"https://colab.research.google.com/assets/colab-badge.svg\" alt=\"Open In Colab\"/></a>"
      ]
    },
    {
      "cell_type": "markdown",
      "metadata": {
        "id": "4m4P0sda6D_w",
        "colab_type": "text"
      },
      "source": [
        "#Vectores linealmente independientes, Resolución de ecuaciones lineales"
      ]
    },
    {
      "cell_type": "code",
      "metadata": {
        "id": "JDZvG_-q4qAp",
        "colab_type": "code",
        "colab": {
          "base_uri": "https://localhost:8080/",
          "height": 33
        },
        "outputId": "f6836914-d31a-47f6-fde3-3a4b7a27edeb"
      },
      "source": [
        "v1 = np.array([1, 1])\n",
        "v2 = np.array([-1,-1])\n",
        "\n",
        "print(v1, v2)"
      ],
      "execution_count": null,
      "outputs": [
        {
          "output_type": "stream",
          "text": [
            "[1 1] [-1 -1]\n"
          ],
          "name": "stdout"
        }
      ]
    },
    {
      "cell_type": "code",
      "metadata": {
        "id": "0HTVD6lJ6qRG",
        "colab_type": "code",
        "colab": {}
      },
      "source": [
        "import numpy as np"
      ],
      "execution_count": null,
      "outputs": []
    },
    {
      "cell_type": "code",
      "metadata": {
        "id": "bsF1vx2f6xac",
        "colab_type": "code",
        "colab": {}
      },
      "source": [
        "escalar = 5.679\n",
        "vector = np.array([1,2,3])\n",
        "matriz = np.array([[1,2],[3,4]])\n",
        "tensor = np.array([\n",
        "    [[1,2,3],[4,5,6],[6,7,8]],\n",
        "    [[11,12,13],[14,15,16],[17,18,19]],\n",
        "    [[21,22,23],[24,25,26],[27,28,29]],\n",
        "\n",
        "])"
      ],
      "execution_count": null,
      "outputs": []
    },
    {
      "cell_type": "code",
      "metadata": {
        "id": "opRuff828BWG",
        "colab_type": "code",
        "colab": {
          "base_uri": "https://localhost:8080/",
          "height": 34
        },
        "outputId": "a7cfb76b-546f-4d2b-e7b7-0b636439c3d5"
      },
      "source": [
        "print(escalar)"
      ],
      "execution_count": null,
      "outputs": [
        {
          "output_type": "stream",
          "text": [
            "5.679\n"
          ],
          "name": "stdout"
        }
      ]
    },
    {
      "cell_type": "code",
      "metadata": {
        "id": "iM2FsRqN8Fpo",
        "colab_type": "code",
        "colab": {
          "base_uri": "https://localhost:8080/",
          "height": 163
        },
        "outputId": "638618be-1a80-4ee4-a92b-e94cc979b786"
      },
      "source": [
        "escalar.shape"
      ],
      "execution_count": null,
      "outputs": [
        {
          "output_type": "error",
          "ename": "AttributeError",
          "evalue": "ignored",
          "traceback": [
            "\u001b[0;31m---------------------------------------------------------------------------\u001b[0m",
            "\u001b[0;31mAttributeError\u001b[0m                            Traceback (most recent call last)",
            "\u001b[0;32m<ipython-input-4-f06d931aaba9>\u001b[0m in \u001b[0;36m<module>\u001b[0;34m()\u001b[0m\n\u001b[0;32m----> 1\u001b[0;31m \u001b[0mescalar\u001b[0m\u001b[0;34m.\u001b[0m\u001b[0mshape\u001b[0m\u001b[0;34m\u001b[0m\u001b[0;34m\u001b[0m\u001b[0m\n\u001b[0m",
            "\u001b[0;31mAttributeError\u001b[0m: 'float' object has no attribute 'shape'"
          ]
        }
      ]
    },
    {
      "cell_type": "code",
      "metadata": {
        "id": "D4wjtAOx8Ks2",
        "colab_type": "code",
        "colab": {
          "base_uri": "https://localhost:8080/",
          "height": 34
        },
        "outputId": "9db15829-61e0-4c05-d1b1-f165f18954a0"
      },
      "source": [
        "vector.shape"
      ],
      "execution_count": null,
      "outputs": [
        {
          "output_type": "execute_result",
          "data": {
            "text/plain": [
              "(3,)"
            ]
          },
          "metadata": {
            "tags": []
          },
          "execution_count": 5
        }
      ]
    },
    {
      "cell_type": "code",
      "metadata": {
        "id": "xWXNQnYO8TUF",
        "colab_type": "code",
        "colab": {
          "base_uri": "https://localhost:8080/",
          "height": 34
        },
        "outputId": "dec2cc77-9fa7-4302-e1a4-89a096b9ba9d"
      },
      "source": [
        "vector"
      ],
      "execution_count": null,
      "outputs": [
        {
          "output_type": "execute_result",
          "data": {
            "text/plain": [
              "array([1, 2, 3])"
            ]
          },
          "metadata": {
            "tags": []
          },
          "execution_count": 6
        }
      ]
    },
    {
      "cell_type": "code",
      "metadata": {
        "id": "4ekPfvQQ8XpB",
        "colab_type": "code",
        "colab": {
          "base_uri": "https://localhost:8080/",
          "height": 34
        },
        "outputId": "923c735f-8783-4f21-96a4-fb0e4908043c"
      },
      "source": [
        "len(vector)"
      ],
      "execution_count": null,
      "outputs": [
        {
          "output_type": "execute_result",
          "data": {
            "text/plain": [
              "3"
            ]
          },
          "metadata": {
            "tags": []
          },
          "execution_count": 7
        }
      ]
    },
    {
      "cell_type": "code",
      "metadata": {
        "id": "3VKRPBXK8eiV",
        "colab_type": "code",
        "colab": {
          "base_uri": "https://localhost:8080/",
          "height": 34
        },
        "outputId": "ddb45828-c309-4956-821a-98b2942374d1"
      },
      "source": [
        "matriz.shape"
      ],
      "execution_count": null,
      "outputs": [
        {
          "output_type": "execute_result",
          "data": {
            "text/plain": [
              "(2, 2)"
            ]
          },
          "metadata": {
            "tags": []
          },
          "execution_count": 8
        }
      ]
    },
    {
      "cell_type": "code",
      "metadata": {
        "id": "IZL86w4u8md_",
        "colab_type": "code",
        "colab": {
          "base_uri": "https://localhost:8080/",
          "height": 34
        },
        "outputId": "df8d3ff0-7bc6-40ad-e398-161408c48bf6"
      },
      "source": [
        "len(matriz)"
      ],
      "execution_count": null,
      "outputs": [
        {
          "output_type": "execute_result",
          "data": {
            "text/plain": [
              "2"
            ]
          },
          "metadata": {
            "tags": []
          },
          "execution_count": 9
        }
      ]
    },
    {
      "cell_type": "code",
      "metadata": {
        "id": "nsBhaIDf8tNc",
        "colab_type": "code",
        "colab": {
          "base_uri": "https://localhost:8080/",
          "height": 34
        },
        "outputId": "65c9d1b8-69b5-4d7d-f420-362c10b50cc0"
      },
      "source": [
        "print(matriz.size)"
      ],
      "execution_count": null,
      "outputs": [
        {
          "output_type": "stream",
          "text": [
            "4\n"
          ],
          "name": "stdout"
        }
      ]
    },
    {
      "cell_type": "code",
      "metadata": {
        "id": "Of2BDfV5828g",
        "colab_type": "code",
        "colab": {
          "base_uri": "https://localhost:8080/",
          "height": 34
        },
        "outputId": "da50f8b0-cd3b-4476-d311-57d05b5f8be5"
      },
      "source": [
        "print(tensor.shape)"
      ],
      "execution_count": null,
      "outputs": [
        {
          "output_type": "stream",
          "text": [
            "(3, 3, 3)\n"
          ],
          "name": "stdout"
        }
      ]
    },
    {
      "cell_type": "code",
      "metadata": {
        "id": "YtPXi9yj89bO",
        "colab_type": "code",
        "colab": {}
      },
      "source": [
        "escalar = 5.679\n",
        "vector = np.array([3,4,5,6])\n",
        "matriz = np.array([[1,2],[3,4],[5,6]])\n",
        "tensor = np.array([\n",
        "[[1,2,3,30],[4,5,6,31],[7,8,9,32]],\n",
        "[[11,12,13,33],[14,15,16,34],[17,18,19,35]],\n",
        "[[21,22,23,36],[24,25,26,37],[27,28,29,38]],\n",
        "    ])\n"
      ],
      "execution_count": null,
      "outputs": []
    },
    {
      "cell_type": "code",
      "metadata": {
        "id": "Ty-Fi1Gl_aov",
        "colab_type": "code",
        "colab": {
          "base_uri": "https://localhost:8080/",
          "height": 158
        },
        "outputId": "9568d834-0d4a-44b6-9630-45a72e642332"
      },
      "source": [
        "escalar_t = escalar.T"
      ],
      "execution_count": null,
      "outputs": [
        {
          "output_type": "error",
          "ename": "AttributeError",
          "evalue": "ignored",
          "traceback": [
            "\u001b[0;31m---------------------------------------------------------------------------\u001b[0m",
            "\u001b[0;31mAttributeError\u001b[0m                            Traceback (most recent call last)",
            "\u001b[0;32m<ipython-input-9-4a23f0f136f1>\u001b[0m in \u001b[0;36m<module>\u001b[0;34m()\u001b[0m\n\u001b[0;32m----> 1\u001b[0;31m \u001b[0mescalar_t\u001b[0m \u001b[0;34m=\u001b[0m \u001b[0mescalar\u001b[0m\u001b[0;34m.\u001b[0m\u001b[0mT\u001b[0m\u001b[0;34m\u001b[0m\u001b[0;34m\u001b[0m\u001b[0m\n\u001b[0m",
            "\u001b[0;31mAttributeError\u001b[0m: 'float' object has no attribute 'T'"
          ]
        }
      ]
    },
    {
      "cell_type": "code",
      "metadata": {
        "id": "Zk2OlwlfAFHS",
        "colab_type": "code",
        "colab": {
          "base_uri": "https://localhost:8080/",
          "height": 33
        },
        "outputId": "3293433b-262d-4ada-f81e-9caade5ef7b4"
      },
      "source": [
        "vector_t=vector.T\n",
        "print(vector_t)"
      ],
      "execution_count": null,
      "outputs": [
        {
          "output_type": "stream",
          "text": [
            "[3 4 5 6]\n"
          ],
          "name": "stdout"
        }
      ]
    },
    {
      "cell_type": "code",
      "metadata": {
        "id": "5mIzzZqtG0xg",
        "colab_type": "code",
        "colab": {
          "base_uri": "https://localhost:8080/",
          "height": 50
        },
        "outputId": "f9d27343-048d-46a5-c8ba-6cf21003065d"
      },
      "source": [
        "matriz_t = matriz.T\n",
        "print(matriz_t)"
      ],
      "execution_count": null,
      "outputs": [
        {
          "output_type": "stream",
          "text": [
            "[[1 3 5]\n",
            " [2 4 6]]\n"
          ],
          "name": "stdout"
        }
      ]
    },
    {
      "cell_type": "code",
      "metadata": {
        "id": "SnjjdGLU3pPC",
        "colab_type": "code",
        "colab": {
          "base_uri": "https://localhost:8080/",
          "height": 33
        },
        "outputId": "f416064b-9374-41e4-ed49-b13bceb2f57c"
      },
      "source": [
        "print(matriz.shape)"
      ],
      "execution_count": null,
      "outputs": [
        {
          "output_type": "stream",
          "text": [
            "(3, 2)\n"
          ],
          "name": "stdout"
        }
      ]
    },
    {
      "cell_type": "code",
      "metadata": {
        "id": "rcQ4Gggi4VEU",
        "colab_type": "code",
        "colab": {
          "base_uri": "https://localhost:8080/",
          "height": 33
        },
        "outputId": "edfb54c3-022a-484e-dde4-a21eede5bf85"
      },
      "source": [
        "print(matriz_t.shape)"
      ],
      "execution_count": null,
      "outputs": [
        {
          "output_type": "stream",
          "text": [
            "(2, 3)\n"
          ],
          "name": "stdout"
        }
      ]
    },
    {
      "cell_type": "code",
      "metadata": {
        "id": "1PNGQDYe4yaT",
        "colab_type": "code",
        "colab": {
          "base_uri": "https://localhost:8080/",
          "height": 261
        },
        "outputId": "c57151a0-3a5f-4af8-af10-3f296d48dfd5"
      },
      "source": [
        "tensor_t = tensor.T\n",
        "print(tensor_t)"
      ],
      "execution_count": null,
      "outputs": [
        {
          "output_type": "stream",
          "text": [
            "[[[ 1 11 21]\n",
            "  [ 4 14 24]\n",
            "  [ 7 17 27]]\n",
            "\n",
            " [[ 2 12 22]\n",
            "  [ 5 15 25]\n",
            "  [ 8 18 28]]\n",
            "\n",
            " [[ 3 13 23]\n",
            "  [ 6 16 26]\n",
            "  [ 9 19 29]]\n",
            "\n",
            " [[30 33 36]\n",
            "  [31 34 37]\n",
            "  [32 35 38]]]\n"
          ],
          "name": "stdout"
        }
      ]
    },
    {
      "cell_type": "code",
      "metadata": {
        "id": "kOL9RqYP5ADU",
        "colab_type": "code",
        "colab": {
          "base_uri": "https://localhost:8080/",
          "height": 196
        },
        "outputId": "f545d165-ec63-4772-f769-696d01f18fa9"
      },
      "source": [
        "tensor"
      ],
      "execution_count": null,
      "outputs": [
        {
          "output_type": "execute_result",
          "data": {
            "text/plain": [
              "array([[[ 1,  2,  3, 30],\n",
              "        [ 4,  5,  6, 31],\n",
              "        [ 7,  8,  9, 32]],\n",
              "\n",
              "       [[11, 12, 13, 33],\n",
              "        [14, 15, 16, 34],\n",
              "        [17, 18, 19, 35]],\n",
              "\n",
              "       [[21, 22, 23, 36],\n",
              "        [24, 25, 26, 37],\n",
              "        [27, 28, 29, 38]]])"
            ]
          },
          "metadata": {
            "tags": []
          },
          "execution_count": 13
        }
      ]
    },
    {
      "cell_type": "code",
      "metadata": {
        "id": "a2sK6VmY5H0I",
        "colab_type": "code",
        "colab": {
          "base_uri": "https://localhost:8080/",
          "height": 66
        },
        "outputId": "79f02260-9060-479b-9d8b-73bf0454c6e2"
      },
      "source": [
        "matriz_t_t = matriz_t.T\n",
        "print(matriz_t_t)"
      ],
      "execution_count": null,
      "outputs": [
        {
          "output_type": "stream",
          "text": [
            "[[1 2]\n",
            " [3 4]\n",
            " [5 6]]\n"
          ],
          "name": "stdout"
        }
      ]
    },
    {
      "cell_type": "markdown",
      "metadata": {
        "id": "x7g9fdVNM08Y",
        "colab_type": "text"
      },
      "source": [
        "#Suma de matrices"
      ]
    },
    {
      "cell_type": "code",
      "metadata": {
        "id": "7RHo0H8j8apv",
        "colab_type": "code",
        "colab": {}
      },
      "source": [
        "A = matriz\n",
        "B = matriz_t"
      ],
      "execution_count": null,
      "outputs": []
    },
    {
      "cell_type": "code",
      "metadata": {
        "id": "xExRCPyaHe7f",
        "colab_type": "code",
        "colab": {
          "base_uri": "https://localhost:8080/",
          "height": 163
        },
        "outputId": "78e3d042-576a-4454-f87a-9d537e4d1bf3"
      },
      "source": [
        "C = A + B"
      ],
      "execution_count": null,
      "outputs": [
        {
          "output_type": "error",
          "ename": "ValueError",
          "evalue": "ignored",
          "traceback": [
            "\u001b[0;31m---------------------------------------------------------------------------\u001b[0m",
            "\u001b[0;31mValueError\u001b[0m                                Traceback (most recent call last)",
            "\u001b[0;32m<ipython-input-18-49c8b7dac430>\u001b[0m in \u001b[0;36m<module>\u001b[0;34m()\u001b[0m\n\u001b[0;32m----> 1\u001b[0;31m \u001b[0mC\u001b[0m \u001b[0;34m=\u001b[0m \u001b[0mA\u001b[0m \u001b[0;34m+\u001b[0m \u001b[0mB\u001b[0m\u001b[0;34m\u001b[0m\u001b[0;34m\u001b[0m\u001b[0m\n\u001b[0m",
            "\u001b[0;31mValueError\u001b[0m: operands could not be broadcast together with shapes (3,2) (2,3) "
          ]
        }
      ]
    },
    {
      "cell_type": "code",
      "metadata": {
        "id": "14xZUtVkIL8_",
        "colab_type": "code",
        "colab": {
          "base_uri": "https://localhost:8080/",
          "height": 170
        },
        "outputId": "2b92e29d-ef10-4410-dd7e-2aff1d69ec72"
      },
      "source": [
        "A = np.array([[1,2],[3,4],[5,6]])\n",
        "B = np.array([[6,5],[4,3],[2,1]])\n",
        "C = A + B\n",
        "print(A)\n",
        "print(B)\n",
        "print(C)"
      ],
      "execution_count": null,
      "outputs": [
        {
          "output_type": "stream",
          "text": [
            "[[1 2]\n",
            " [3 4]\n",
            " [5 6]]\n",
            "[[6 5]\n",
            " [4 3]\n",
            " [2 1]]\n",
            "[[7 7]\n",
            " [7 7]\n",
            " [7 7]]\n"
          ],
          "name": "stdout"
        }
      ]
    },
    {
      "cell_type": "code",
      "metadata": {
        "id": "JfkIQb05KDvn",
        "colab_type": "code",
        "colab": {
          "base_uri": "https://localhost:8080/",
          "height": 68
        },
        "outputId": "2fd85529-1600-43aa-db42-7cfd4dfa77b1"
      },
      "source": [
        "D = matriz + escalar\n",
        "print(D)"
      ],
      "execution_count": null,
      "outputs": [
        {
          "output_type": "stream",
          "text": [
            "[[ 6.679  7.679]\n",
            " [ 8.679  9.679]\n",
            " [10.679 11.679]]\n"
          ],
          "name": "stdout"
        }
      ]
    },
    {
      "cell_type": "code",
      "metadata": {
        "id": "K2PMb0W7K30z",
        "colab_type": "code",
        "colab": {
          "base_uri": "https://localhost:8080/",
          "height": 102
        },
        "outputId": "2823acc1-5fd7-4616-ffd0-ba5b97792599"
      },
      "source": [
        "A = np.array([[1,2,3,4,5],[6,7,8,9,10],[11,12,13,14,15],[16,17,18,19,20],[21,22,23,24,25]])\n",
        "A"
      ],
      "execution_count": null,
      "outputs": [
        {
          "output_type": "execute_result",
          "data": {
            "text/plain": [
              "array([[ 1,  2,  3,  4,  5],\n",
              "       [ 6,  7,  8,  9, 10],\n",
              "       [11, 12, 13, 14, 15],\n",
              "       [16, 17, 18, 19, 20],\n",
              "       [21, 22, 23, 24, 25]])"
            ]
          },
          "metadata": {
            "tags": []
          },
          "execution_count": 27
        }
      ]
    },
    {
      "cell_type": "code",
      "metadata": {
        "id": "jQPS5DNuLmb6",
        "colab_type": "code",
        "colab": {
          "base_uri": "https://localhost:8080/",
          "height": 102
        },
        "outputId": "a7e223da-dee5-4ad4-c2d3-e59a4c9ea62f"
      },
      "source": [
        "A_t = A.T\n",
        "A_t"
      ],
      "execution_count": null,
      "outputs": [
        {
          "output_type": "execute_result",
          "data": {
            "text/plain": [
              "array([[ 1,  6, 11, 16, 21],\n",
              "       [ 2,  7, 12, 17, 22],\n",
              "       [ 3,  8, 13, 18, 23],\n",
              "       [ 4,  9, 14, 19, 24],\n",
              "       [ 5, 10, 15, 20, 25]])"
            ]
          },
          "metadata": {
            "tags": []
          },
          "execution_count": 28
        }
      ]
    },
    {
      "cell_type": "code",
      "metadata": {
        "id": "6thNbDyDL9qs",
        "colab_type": "code",
        "colab": {
          "base_uri": "https://localhost:8080/",
          "height": 102
        },
        "outputId": "e7419f66-e531-494d-98f9-0415b3fa67e7"
      },
      "source": [
        "B = A_t + A\n",
        "B"
      ],
      "execution_count": null,
      "outputs": [
        {
          "output_type": "execute_result",
          "data": {
            "text/plain": [
              "array([[ 2,  8, 14, 20, 26],\n",
              "       [ 8, 14, 20, 26, 32],\n",
              "       [14, 20, 26, 32, 38],\n",
              "       [20, 26, 32, 38, 44],\n",
              "       [26, 32, 38, 44, 50]])"
            ]
          },
          "metadata": {
            "tags": []
          },
          "execution_count": 30
        }
      ]
    },
    {
      "cell_type": "markdown",
      "metadata": {
        "id": "cD5awuNfNI5t",
        "colab_type": "text"
      },
      "source": [
        "#Suma de matrices de distinta dimensión, broadcasting"
      ]
    },
    {
      "cell_type": "code",
      "metadata": {
        "id": "gKQEOsWCMV5W",
        "colab_type": "code",
        "colab": {}
      },
      "source": [
        "escalar = 5.679\n",
        "vector = np.array([3,4,5])\n",
        "matriz = np.array([[1,2],[3,4],[5,6]])"
      ],
      "execution_count": null,
      "outputs": []
    },
    {
      "cell_type": "code",
      "metadata": {
        "id": "TiApFYb3N6n0",
        "colab_type": "code",
        "colab": {
          "base_uri": "https://localhost:8080/",
          "height": 163
        },
        "outputId": "d491395d-39dd-4331-ef23-10a6da883273"
      },
      "source": [
        "A = vector + matriz"
      ],
      "execution_count": null,
      "outputs": [
        {
          "output_type": "error",
          "ename": "ValueError",
          "evalue": "ignored",
          "traceback": [
            "\u001b[0;31m---------------------------------------------------------------------------\u001b[0m",
            "\u001b[0;31mValueError\u001b[0m                                Traceback (most recent call last)",
            "\u001b[0;32m<ipython-input-36-57bf6f3bc9e4>\u001b[0m in \u001b[0;36m<module>\u001b[0;34m()\u001b[0m\n\u001b[0;32m----> 1\u001b[0;31m \u001b[0mA\u001b[0m \u001b[0;34m=\u001b[0m \u001b[0mvector\u001b[0m \u001b[0;34m+\u001b[0m \u001b[0mmatriz\u001b[0m\u001b[0;34m\u001b[0m\u001b[0;34m\u001b[0m\u001b[0m\n\u001b[0m",
            "\u001b[0;31mValueError\u001b[0m: operands could not be broadcast together with shapes (3,) (3,2) "
          ]
        }
      ]
    },
    {
      "cell_type": "code",
      "metadata": {
        "id": "UFFoIEZgODcO",
        "colab_type": "code",
        "colab": {
          "base_uri": "https://localhost:8080/",
          "height": 51
        },
        "outputId": "95af716d-fc1f-48ab-a5ab-75135e4772bd"
      },
      "source": [
        "A = matriz.T + vector\n",
        "print(A)"
      ],
      "execution_count": null,
      "outputs": [
        {
          "output_type": "stream",
          "text": [
            "[[ 4  7 10]\n",
            " [ 5  8 11]]\n"
          ],
          "name": "stdout"
        }
      ]
    },
    {
      "cell_type": "code",
      "metadata": {
        "id": "3Jku6wV8OOwc",
        "colab_type": "code",
        "colab": {
          "base_uri": "https://localhost:8080/",
          "height": 68
        },
        "outputId": "674c9aae-0614-44d4-a002-22e99042b4c8"
      },
      "source": [
        "D = matriz + np.array([[42],[42],[42]])\n",
        "print(D)"
      ],
      "execution_count": null,
      "outputs": [
        {
          "output_type": "stream",
          "text": [
            "[[43 44]\n",
            " [45 46]\n",
            " [47 48]]\n"
          ],
          "name": "stdout"
        }
      ]
    },
    {
      "cell_type": "markdown",
      "metadata": {
        "id": "Py1GTzCIQ7NS",
        "colab_type": "text"
      },
      "source": [
        "#Producto interno entre una matriz y un vector"
      ]
    },
    {
      "cell_type": "code",
      "metadata": {
        "id": "bSnj0KaWPxlU",
        "colab_type": "code",
        "colab": {}
      },
      "source": [
        "escalar = 5.679\n",
        "vector = np.array([2,3])\n",
        "matriz = np.array([[1,2],[3,4],[5,6]])"
      ],
      "execution_count": null,
      "outputs": []
    },
    {
      "cell_type": "code",
      "metadata": {
        "id": "adAvUUI8RLAK",
        "colab_type": "code",
        "colab": {
          "base_uri": "https://localhost:8080/",
          "height": 68
        },
        "outputId": "2b4e7f09-a6de-4fc3-da67-acb660c31de6"
      },
      "source": [
        "A = matriz * vector\n",
        "A"
      ],
      "execution_count": null,
      "outputs": [
        {
          "output_type": "execute_result",
          "data": {
            "text/plain": [
              "array([[ 2,  6],\n",
              "       [ 6, 12],\n",
              "       [10, 18]])"
            ]
          },
          "metadata": {
            "tags": []
          },
          "execution_count": 9
        }
      ]
    },
    {
      "cell_type": "code",
      "metadata": {
        "id": "llrknf2oRQvz",
        "colab_type": "code",
        "colab": {
          "base_uri": "https://localhost:8080/",
          "height": 34
        },
        "outputId": "f8eb9237-bb4e-492a-aa26-f5a9f5fcfb34"
      },
      "source": [
        "B = matriz.dot(vector)\n",
        "B"
      ],
      "execution_count": null,
      "outputs": [
        {
          "output_type": "execute_result",
          "data": {
            "text/plain": [
              "array([ 8, 18, 28])"
            ]
          },
          "metadata": {
            "tags": []
          },
          "execution_count": 10
        }
      ]
    },
    {
      "cell_type": "code",
      "metadata": {
        "id": "8UOfUR9qRioc",
        "colab_type": "code",
        "colab": {
          "base_uri": "https://localhost:8080/",
          "height": 34
        },
        "outputId": "1f4f3f5d-34c3-48c9-df12-68fe74d966c8"
      },
      "source": [
        "B = matriz.dot(vector)\n",
        "C = np.dot(matriz, vector)\n",
        "print(B,C)"
      ],
      "execution_count": null,
      "outputs": [
        {
          "output_type": "stream",
          "text": [
            "[ 8 18 28] [ 8 18 28]\n"
          ],
          "name": "stdout"
        }
      ]
    },
    {
      "cell_type": "code",
      "metadata": {
        "id": "lxUSpQrYSeSn",
        "colab_type": "code",
        "colab": {
          "base_uri": "https://localhost:8080/",
          "height": 231
        },
        "outputId": "5b665590-919c-49e9-9ca0-f9585c171a59"
      },
      "source": [
        "#D = vector.dot(matriz)\n",
        "E = np.dot(vector,matriz)\n",
        "E"
      ],
      "execution_count": null,
      "outputs": [
        {
          "output_type": "error",
          "ename": "ValueError",
          "evalue": "ignored",
          "traceback": [
            "\u001b[0;31m---------------------------------------------------------------------------\u001b[0m",
            "\u001b[0;31mValueError\u001b[0m                                Traceback (most recent call last)",
            "\u001b[0;32m<ipython-input-12-8df664eee28e>\u001b[0m in \u001b[0;36m<module>\u001b[0;34m()\u001b[0m\n\u001b[1;32m      1\u001b[0m \u001b[0;31m#D = vector.dot(matriz)\u001b[0m\u001b[0;34m\u001b[0m\u001b[0;34m\u001b[0m\u001b[0;34m\u001b[0m\u001b[0m\n\u001b[0;32m----> 2\u001b[0;31m \u001b[0mE\u001b[0m \u001b[0;34m=\u001b[0m \u001b[0mnp\u001b[0m\u001b[0;34m.\u001b[0m\u001b[0mdot\u001b[0m\u001b[0;34m(\u001b[0m\u001b[0mvector\u001b[0m\u001b[0;34m,\u001b[0m\u001b[0mmatriz\u001b[0m\u001b[0;34m)\u001b[0m\u001b[0;34m\u001b[0m\u001b[0;34m\u001b[0m\u001b[0m\n\u001b[0m\u001b[1;32m      3\u001b[0m \u001b[0mE\u001b[0m\u001b[0;34m\u001b[0m\u001b[0;34m\u001b[0m\u001b[0m\n",
            "\u001b[0;32m<__array_function__ internals>\u001b[0m in \u001b[0;36mdot\u001b[0;34m(*args, **kwargs)\u001b[0m\n",
            "\u001b[0;31mValueError\u001b[0m: shapes (2,) and (3,2) not aligned: 2 (dim 0) != 3 (dim 0)"
          ]
        }
      ]
    },
    {
      "cell_type": "code",
      "metadata": {
        "id": "yo9ZMdCWSx4n",
        "colab_type": "code",
        "colab": {
          "base_uri": "https://localhost:8080/",
          "height": 119
        },
        "outputId": "62a53c7f-f162-4b3c-fbb7-0daf774d51b7"
      },
      "source": [
        "D = np.outer(matriz, vector)\n",
        "D"
      ],
      "execution_count": null,
      "outputs": [
        {
          "output_type": "execute_result",
          "data": {
            "text/plain": [
              "array([[ 2,  3],\n",
              "       [ 4,  6],\n",
              "       [ 6,  9],\n",
              "       [ 8, 12],\n",
              "       [10, 15],\n",
              "       [12, 18]])"
            ]
          },
          "metadata": {
            "tags": []
          },
          "execution_count": 13
        }
      ]
    },
    {
      "cell_type": "code",
      "metadata": {
        "id": "EwdTGvudVEPN",
        "colab_type": "code",
        "colab": {
          "base_uri": "https://localhost:8080/",
          "height": 68
        },
        "outputId": "311b6886-5b4f-4e93-9e09-dfecfbd723ad"
      },
      "source": [
        "print(matriz, vector)"
      ],
      "execution_count": null,
      "outputs": [
        {
          "output_type": "stream",
          "text": [
            "[[1 2]\n",
            " [3 4]\n",
            " [5 6]] [2 3]\n"
          ],
          "name": "stdout"
        }
      ]
    },
    {
      "cell_type": "markdown",
      "metadata": {
        "id": "coJvUsIjhwtV",
        "colab_type": "text"
      },
      "source": [
        "#Producto interno entre dos matrices"
      ]
    },
    {
      "cell_type": "code",
      "metadata": {
        "id": "BMNc_fK3g8Rz",
        "colab_type": "code",
        "colab": {}
      },
      "source": [
        "A = np.array([[1,2,3],[4,5,6],[7,8,9],[10,11,12]])\n",
        "B = np.array([[2,3],[5,7],[11,13]])"
      ],
      "execution_count": null,
      "outputs": []
    },
    {
      "cell_type": "code",
      "metadata": {
        "id": "1HK_DamVl5-9",
        "colab_type": "code",
        "colab": {
          "base_uri": "https://localhost:8080/",
          "height": 34
        },
        "outputId": "ad43c929-e743-432c-eb83-fb0b22988270"
      },
      "source": [
        "print(A.shape)"
      ],
      "execution_count": null,
      "outputs": [
        {
          "output_type": "stream",
          "text": [
            "(4, 3)\n"
          ],
          "name": "stdout"
        }
      ]
    },
    {
      "cell_type": "code",
      "metadata": {
        "id": "lqjpHjQnl9D0",
        "colab_type": "code",
        "colab": {
          "base_uri": "https://localhost:8080/",
          "height": 34
        },
        "outputId": "d51b39f3-2b36-41a9-cdb8-8060d2ee0dbc"
      },
      "source": [
        "print(B.shape)"
      ],
      "execution_count": null,
      "outputs": [
        {
          "output_type": "stream",
          "text": [
            "(3, 2)\n"
          ],
          "name": "stdout"
        }
      ]
    },
    {
      "cell_type": "code",
      "metadata": {
        "id": "S-KXxnGBmF2v",
        "colab_type": "code",
        "colab": {}
      },
      "source": [
        "C = A.dot(B)"
      ],
      "execution_count": null,
      "outputs": []
    },
    {
      "cell_type": "code",
      "metadata": {
        "id": "A7KCRKnDmNJg",
        "colab_type": "code",
        "colab": {
          "base_uri": "https://localhost:8080/",
          "height": 163
        },
        "outputId": "ee237b4f-8be0-4004-e0ee-33f63f2f46a9"
      },
      "source": [
        "D = B.dot(A)"
      ],
      "execution_count": null,
      "outputs": [
        {
          "output_type": "error",
          "ename": "ValueError",
          "evalue": "ignored",
          "traceback": [
            "\u001b[0;31m---------------------------------------------------------------------------\u001b[0m",
            "\u001b[0;31mValueError\u001b[0m                                Traceback (most recent call last)",
            "\u001b[0;32m<ipython-input-19-e4f2e98153c3>\u001b[0m in \u001b[0;36m<module>\u001b[0;34m()\u001b[0m\n\u001b[0;32m----> 1\u001b[0;31m \u001b[0mD\u001b[0m \u001b[0;34m=\u001b[0m \u001b[0mB\u001b[0m\u001b[0;34m.\u001b[0m\u001b[0mdot\u001b[0m\u001b[0;34m(\u001b[0m\u001b[0mA\u001b[0m\u001b[0;34m)\u001b[0m\u001b[0;34m\u001b[0m\u001b[0;34m\u001b[0m\u001b[0m\n\u001b[0m",
            "\u001b[0;31mValueError\u001b[0m: shapes (3,2) and (4,3) not aligned: 2 (dim 1) != 4 (dim 0)"
          ]
        }
      ]
    },
    {
      "cell_type": "markdown",
      "metadata": {
        "id": "hYnSsBMgo8qb",
        "colab_type": "text"
      },
      "source": [
        "#Propiedades de las matrices"
      ]
    },
    {
      "cell_type": "code",
      "metadata": {
        "id": "CHnaw8ZjmRHa",
        "colab_type": "code",
        "colab": {}
      },
      "source": [
        "A = np.array([[2,3],[5,7],[11,13]])\n",
        "B = np.array([[1,3],[2,1]])\n",
        "C = np.array([[3,1],[4,2]])"
      ],
      "execution_count": null,
      "outputs": []
    },
    {
      "cell_type": "code",
      "metadata": {
        "id": "GfiCKQmHpc63",
        "colab_type": "code",
        "colab": {
          "base_uri": "https://localhost:8080/",
          "height": 68
        },
        "outputId": "1b9dde06-4dcd-4a3f-aad1-4cc8515ca546"
      },
      "source": [
        "# Asociativa\n",
        "\n",
        "ABC = A.dot(B.dot(C))\n",
        "print(ABC)"
      ],
      "execution_count": null,
      "outputs": [
        {
          "output_type": "stream",
          "text": [
            "[[ 60  26]\n",
            " [145  63]\n",
            " [295 129]]\n"
          ],
          "name": "stdout"
        }
      ]
    },
    {
      "cell_type": "code",
      "metadata": {
        "id": "E04bkqfCqO3G",
        "colab_type": "code",
        "colab": {
          "base_uri": "https://localhost:8080/",
          "height": 68
        },
        "outputId": "c799a802-96c7-44ec-90d5-ea45f4971f2d"
      },
      "source": [
        "AB_C = A.dot(B).dot(C)\n",
        "print(AB_C)"
      ],
      "execution_count": null,
      "outputs": [
        {
          "output_type": "stream",
          "text": [
            "[[ 60  26]\n",
            " [145  63]\n",
            " [295 129]]\n"
          ],
          "name": "stdout"
        }
      ]
    },
    {
      "cell_type": "code",
      "metadata": {
        "id": "4XJmArvxqeQT",
        "colab_type": "code",
        "colab": {
          "base_uri": "https://localhost:8080/",
          "height": 119
        },
        "outputId": "21f1669f-7d86-4f2a-a44a-f6711000eee4"
      },
      "source": [
        "#Distributiva\n",
        "D = A.dot(B+C)\n",
        "E = (A.dot(B))+(A.dot(C))\n",
        "print(D)\n",
        "print(E)"
      ],
      "execution_count": null,
      "outputs": [
        {
          "output_type": "stream",
          "text": [
            "[[ 26  17]\n",
            " [ 62  41]\n",
            " [122  83]]\n",
            "[[ 26  17]\n",
            " [ 62  41]\n",
            " [122  83]]\n"
          ],
          "name": "stdout"
        }
      ]
    },
    {
      "cell_type": "code",
      "metadata": {
        "id": "M4CTf39brXPc",
        "colab_type": "code",
        "colab": {
          "base_uri": "https://localhost:8080/",
          "height": 68
        },
        "outputId": "fbb646a9-eb87-41d3-ddf1-fd803de04989"
      },
      "source": [
        "print(D==E)"
      ],
      "execution_count": null,
      "outputs": [
        {
          "output_type": "stream",
          "text": [
            "[[ True  True]\n",
            " [ True  True]\n",
            " [ True  True]]\n"
          ],
          "name": "stdout"
        }
      ]
    },
    {
      "cell_type": "code",
      "metadata": {
        "id": "9WBteRSUrhiU",
        "colab_type": "code",
        "colab": {}
      },
      "source": [
        "#No es Conmutativa\n",
        "F = B.dot(C)"
      ],
      "execution_count": null,
      "outputs": []
    },
    {
      "cell_type": "code",
      "metadata": {
        "id": "Hoy7Ae2Xrry2",
        "colab_type": "code",
        "colab": {}
      },
      "source": [
        "G = C.dot(B)"
      ],
      "execution_count": null,
      "outputs": []
    },
    {
      "cell_type": "code",
      "metadata": {
        "id": "T2jhz0pYryp9",
        "colab_type": "code",
        "colab": {
          "base_uri": "https://localhost:8080/",
          "height": 51
        },
        "outputId": "1ae30373-d101-443b-d1ef-432e3aa640d4"
      },
      "source": [
        "print(F==G)"
      ],
      "execution_count": null,
      "outputs": [
        {
          "output_type": "stream",
          "text": [
            "[[False False]\n",
            " [False False]]\n"
          ],
          "name": "stdout"
        }
      ]
    },
    {
      "cell_type": "code",
      "metadata": {
        "id": "4-xZKmhlr3eB",
        "colab_type": "code",
        "colab": {
          "base_uri": "https://localhost:8080/",
          "height": 85
        },
        "outputId": "890df025-4f6c-44fb-b48c-11a538f85add"
      },
      "source": [
        "print(F)\n",
        "print(G)"
      ],
      "execution_count": null,
      "outputs": [
        {
          "output_type": "stream",
          "text": [
            "[[15  7]\n",
            " [10  4]]\n",
            "[[ 5 10]\n",
            " [ 8 14]]\n"
          ],
          "name": "stdout"
        }
      ]
    },
    {
      "cell_type": "code",
      "metadata": {
        "id": "h9BYGURNsJgW",
        "colab_type": "code",
        "colab": {}
      },
      "source": [
        "v1 = np.array([[2],[7]])\n",
        "v2 = np.array([[3],[5]])\n",
        "v1_tv2 = v1.T.dot(v2)\n",
        "v2_tv1 = v2.T.dot(v1)"
      ],
      "execution_count": null,
      "outputs": []
    },
    {
      "cell_type": "code",
      "metadata": {
        "id": "NtjEIVehsuXS",
        "colab_type": "code",
        "colab": {
          "base_uri": "https://localhost:8080/",
          "height": 34
        },
        "outputId": "8c91f4c9-cbe8-468b-c12f-d2bc78187fca"
      },
      "source": [
        "print(v1_tv2)"
      ],
      "execution_count": null,
      "outputs": [
        {
          "output_type": "stream",
          "text": [
            "[[41]]\n"
          ],
          "name": "stdout"
        }
      ]
    },
    {
      "cell_type": "code",
      "metadata": {
        "id": "necH1GZxszYf",
        "colab_type": "code",
        "colab": {
          "base_uri": "https://localhost:8080/",
          "height": 34
        },
        "outputId": "6b3c34b8-5add-4bfe-f2e6-eee46abfe787"
      },
      "source": [
        "print(v2_tv1)"
      ],
      "execution_count": null,
      "outputs": [
        {
          "output_type": "stream",
          "text": [
            "[[41]]\n"
          ],
          "name": "stdout"
        }
      ]
    },
    {
      "cell_type": "markdown",
      "metadata": {
        "id": "OnVkN5UBuFLI",
        "colab_type": "text"
      },
      "source": [
        "#Transposición de un producto de matrices"
      ]
    },
    {
      "cell_type": "code",
      "metadata": {
        "id": "pT-avUKLs7Wv",
        "colab_type": "code",
        "colab": {}
      },
      "source": [
        "A = np.array([[2,3],[5,7],[11,13]])\n",
        "B = np.array([[1,3],[2,1]])"
      ],
      "execution_count": null,
      "outputs": []
    },
    {
      "cell_type": "code",
      "metadata": {
        "id": "DQoIp37awF6Z",
        "colab_type": "code",
        "colab": {
          "base_uri": "https://localhost:8080/",
          "height": 68
        },
        "outputId": "8313c61d-bd17-433f-991d-8aaec7a84a1d"
      },
      "source": [
        "print(A)"
      ],
      "execution_count": null,
      "outputs": [
        {
          "output_type": "stream",
          "text": [
            "[[ 2  3]\n",
            " [ 5  7]\n",
            " [11 13]]\n"
          ],
          "name": "stdout"
        }
      ]
    },
    {
      "cell_type": "code",
      "metadata": {
        "id": "80LsWcndwOY7",
        "colab_type": "code",
        "colab": {
          "base_uri": "https://localhost:8080/",
          "height": 51
        },
        "outputId": "7c41b54f-6e17-4099-bfb5-983aa62094a7"
      },
      "source": [
        "print(B)"
      ],
      "execution_count": null,
      "outputs": [
        {
          "output_type": "stream",
          "text": [
            "[[1 3]\n",
            " [2 1]]\n"
          ],
          "name": "stdout"
        }
      ]
    },
    {
      "cell_type": "code",
      "metadata": {
        "id": "0732rSrfwSyd",
        "colab_type": "code",
        "colab": {}
      },
      "source": [
        "AB_t = A.dot(B).T"
      ],
      "execution_count": null,
      "outputs": []
    },
    {
      "cell_type": "code",
      "metadata": {
        "id": "8PYtMOVswhN-",
        "colab_type": "code",
        "colab": {}
      },
      "source": [
        "B_tA_t = B.T.dot(A.T)"
      ],
      "execution_count": null,
      "outputs": []
    },
    {
      "cell_type": "code",
      "metadata": {
        "id": "ty3hOTrTwnsY",
        "colab_type": "code",
        "colab": {
          "base_uri": "https://localhost:8080/",
          "height": 51
        },
        "outputId": "0085d8ec-a7f2-4b4c-87aa-81dc3f6a80ea"
      },
      "source": [
        "print(AB_t==B_tA_t)"
      ],
      "execution_count": null,
      "outputs": [
        {
          "output_type": "stream",
          "text": [
            "[[ True  True  True]\n",
            " [ True  True  True]]\n"
          ],
          "name": "stdout"
        }
      ]
    },
    {
      "cell_type": "code",
      "metadata": {
        "id": "tT34GhWewzPf",
        "colab_type": "code",
        "colab": {
          "base_uri": "https://localhost:8080/",
          "height": 51
        },
        "outputId": "1ac8339e-49b7-4c59-9475-aca9702bec1c"
      },
      "source": [
        "AB_t"
      ],
      "execution_count": null,
      "outputs": [
        {
          "output_type": "execute_result",
          "data": {
            "text/plain": [
              "array([[ 8, 19, 37],\n",
              "       [ 9, 22, 46]])"
            ]
          },
          "metadata": {
            "tags": []
          },
          "execution_count": 39
        }
      ]
    },
    {
      "cell_type": "markdown",
      "metadata": {
        "id": "kRsOGEVOxIQ8",
        "colab_type": "text"
      },
      "source": [
        "#Comprobar la solución de un sistema de ecuaciones lineales"
      ]
    },
    {
      "cell_type": "code",
      "metadata": {
        "id": "5phW6biTw64A",
        "colab_type": "code",
        "colab": {}
      },
      "source": [
        "import matplotlib.pyplot as plt"
      ],
      "execution_count": null,
      "outputs": []
    },
    {
      "cell_type": "code",
      "metadata": {
        "id": "xp_-z_vDxjzz",
        "colab_type": "code",
        "colab": {}
      },
      "source": [
        "%matplotlib inline"
      ],
      "execution_count": null,
      "outputs": []
    },
    {
      "cell_type": "code",
      "metadata": {
        "id": "J0V-0Vy0xqDk",
        "colab_type": "code",
        "colab": {}
      },
      "source": [
        "x = np.arange(-5, 5)"
      ],
      "execution_count": null,
      "outputs": []
    },
    {
      "cell_type": "code",
      "metadata": {
        "id": "pbj7GLKfyADN",
        "colab_type": "code",
        "colab": {}
      },
      "source": [
        "y_1 = 3*x + 5\n",
        "y_2 = 2*x + 3"
      ],
      "execution_count": null,
      "outputs": []
    },
    {
      "cell_type": "code",
      "metadata": {
        "id": "UMuFE_72yJz8",
        "colab_type": "code",
        "colab": {
          "base_uri": "https://localhost:8080/",
          "height": 281
        },
        "outputId": "6089dfb9-cd97-4567-b251-ff9d7847979b"
      },
      "source": [
        "plt.figure()\n",
        "\n",
        "plt.plot(x, y_1)\n",
        "plt.plot(x, y_2)\n",
        "\n",
        "plt.xlim(-5,5)\n",
        "plt.ylim(-5,5)\n",
        "\n",
        "plt.axvline(x=0, color='grey')\n",
        "plt.axhline(y=0, color='grey')\n"
      ],
      "execution_count": null,
      "outputs": [
        {
          "output_type": "execute_result",
          "data": {
            "text/plain": [
              "<matplotlib.lines.Line2D at 0x7f9f581d6550>"
            ]
          },
          "metadata": {
            "tags": []
          },
          "execution_count": 7
        },
        {
          "output_type": "display_data",
          "data": {
            "image/png": "[encoded data removed]",
            "text/plain": [
              "<Figure size 432x288 with 1 Axes>"
            ]
          },
          "metadata": {
            "tags": [],
            "needs_background": "light"
          }
        }
      ]
    },
    {
      "cell_type": "code",
      "metadata": {
        "id": "P65NElIDyQZd",
        "colab_type": "code",
        "colab": {
          "base_uri": "https://localhost:8080/",
          "height": 51
        },
        "outputId": "25430d74-b0db-4303-ac02-895ab6a818fa"
      },
      "source": [
        "A = np.array([[-3,1],[-2,1]])\n",
        "print(A)"
      ],
      "execution_count": null,
      "outputs": [
        {
          "output_type": "stream",
          "text": [
            "[[-3  1]\n",
            " [-2  1]]\n"
          ],
          "name": "stdout"
        }
      ]
    },
    {
      "cell_type": "code",
      "metadata": {
        "id": "iboAoN3S13I7",
        "colab_type": "code",
        "colab": {
          "base_uri": "https://localhost:8080/",
          "height": 51
        },
        "outputId": "be92d98f-b9e8-462c-92cb-d68789e51575"
      },
      "source": [
        "b = np.array([[5],[3]])\n",
        "print(b)"
      ],
      "execution_count": null,
      "outputs": [
        {
          "output_type": "stream",
          "text": [
            "[[5]\n",
            " [3]]\n"
          ],
          "name": "stdout"
        }
      ]
    },
    {
      "cell_type": "code",
      "metadata": {
        "id": "cu4ZeIeF2A6b",
        "colab_type": "code",
        "colab": {
          "base_uri": "https://localhost:8080/",
          "height": 34
        },
        "outputId": "31942262-19db-40bc-8ab0-f67f5bbd2f4c"
      },
      "source": [
        "sol_1 = np.array([-2,-1])\n",
        "print(sol_1)"
      ],
      "execution_count": null,
      "outputs": [
        {
          "output_type": "stream",
          "text": [
            "[-2 -1]\n"
          ],
          "name": "stdout"
        }
      ]
    },
    {
      "cell_type": "code",
      "metadata": {
        "id": "nGZsnumX2NS6",
        "colab_type": "code",
        "colab": {
          "base_uri": "https://localhost:8080/",
          "height": 34
        },
        "outputId": "59c2a9da-1f03-457a-e64d-e4840fff97ec"
      },
      "source": [
        "print(A.dot(sol_1))\n"
      ],
      "execution_count": null,
      "outputs": [
        {
          "output_type": "stream",
          "text": [
            "[5 3]\n"
          ],
          "name": "stdout"
        }
      ]
    },
    {
      "cell_type": "markdown",
      "metadata": {
        "id": "aHK2fcb7Oga5",
        "colab_type": "text"
      },
      "source": [
        "#Tipos especiales de  matrices: Identidad, inversa, Singular"
      ]
    },
    {
      "cell_type": "code",
      "metadata": {
        "id": "5Pwb_NS_2aIE",
        "colab_type": "code",
        "colab": {
          "base_uri": "https://localhost:8080/",
          "height": 82
        },
        "outputId": "0fdadfa6-6e82-46c1-af6f-d448a8bd82f6"
      },
      "source": [
        "identidad = np.eye(4)\n",
        "print(identidad)"
      ],
      "execution_count": null,
      "outputs": [
        {
          "output_type": "stream",
          "text": [
            "[[1. 0. 0. 0.]\n",
            " [0. 1. 0. 0.]\n",
            " [0. 0. 1. 0.]\n",
            " [0. 0. 0. 1.]]\n"
          ],
          "name": "stdout"
        }
      ]
    },
    {
      "cell_type": "code",
      "metadata": {
        "id": "B0pyRBeZS_Mc",
        "colab_type": "code",
        "colab": {
          "base_uri": "https://localhost:8080/",
          "height": 82
        },
        "outputId": "5544f01d-322f-4b59-978f-d9b9fe366336"
      },
      "source": [
        "vector = np.array([[2],[3],[5],[7]])\n",
        "print(identidad.dot(vector))"
      ],
      "execution_count": null,
      "outputs": [
        {
          "output_type": "stream",
          "text": [
            "[[2.]\n",
            " [3.]\n",
            " [5.]\n",
            " [7.]]\n"
          ],
          "name": "stdout"
        }
      ]
    },
    {
      "cell_type": "code",
      "metadata": {
        "id": "QyBFjYczTdY8",
        "colab_type": "code",
        "colab": {
          "base_uri": "https://localhost:8080/",
          "height": 82
        },
        "outputId": "f976264e-cb87-429a-fdc4-0c8812ca9e1f"
      },
      "source": [
        "print(vector)"
      ],
      "execution_count": null,
      "outputs": [
        {
          "output_type": "stream",
          "text": [
            "[[2]\n",
            " [3]\n",
            " [5]\n",
            " [7]]\n"
          ],
          "name": "stdout"
        }
      ]
    },
    {
      "cell_type": "code",
      "metadata": {
        "id": "Fai2xHh1Tq_G",
        "colab_type": "code",
        "colab": {
          "base_uri": "https://localhost:8080/",
          "height": 66
        },
        "outputId": "3d36dc84-4d8a-4c01-9666-5aa114f64c38"
      },
      "source": [
        "A = np.array([[1,0,1],[0,1,1],[-1,1,1]])\n",
        "print(A)"
      ],
      "execution_count": null,
      "outputs": [
        {
          "output_type": "stream",
          "text": [
            "[[ 1  0  1]\n",
            " [ 0  1  1]\n",
            " [-1  1  1]]\n"
          ],
          "name": "stdout"
        }
      ]
    },
    {
      "cell_type": "code",
      "metadata": {
        "id": "olDiwM3bUof0",
        "colab_type": "code",
        "colab": {
          "base_uri": "https://localhost:8080/",
          "height": 66
        },
        "outputId": "aa273557-5e73-49e9-f6af-087f0fbfe6d7"
      },
      "source": [
        "inversa_A = np.linalg.inv(A)\n",
        "print(inversa_A)"
      ],
      "execution_count": null,
      "outputs": [
        {
          "output_type": "stream",
          "text": [
            "[[ 0.  1. -1.]\n",
            " [-1.  2. -1.]\n",
            " [ 1. -1.  1.]]\n"
          ],
          "name": "stdout"
        }
      ]
    },
    {
      "cell_type": "code",
      "metadata": {
        "id": "URjobanVU3D5",
        "colab_type": "code",
        "colab": {
          "base_uri": "https://localhost:8080/",
          "height": 66
        },
        "outputId": "af354af0-bbc4-44fd-eb7c-e09589d9dc87"
      },
      "source": [
        "print(A.dot(inversa_A))"
      ],
      "execution_count": null,
      "outputs": [
        {
          "output_type": "stream",
          "text": [
            "[[1. 0. 0.]\n",
            " [0. 1. 0.]\n",
            " [0. 0. 1.]]\n"
          ],
          "name": "stdout"
        }
      ]
    },
    {
      "cell_type": "code",
      "metadata": {
        "id": "fNnwVtJ8VMSK",
        "colab_type": "code",
        "colab": {
          "base_uri": "https://localhost:8080/",
          "height": 50
        },
        "outputId": "50bc64f8-bdf1-4aa9-d8f5-0b33ae3d7411"
      },
      "source": [
        "#Matriz singula, cuando no tiene identidad\n",
        "singular = np.array([[1,1],[1,1]])\n",
        "print(singular)"
      ],
      "execution_count": null,
      "outputs": [
        {
          "output_type": "stream",
          "text": [
            "[[1 1]\n",
            " [1 1]]\n"
          ],
          "name": "stdout"
        }
      ]
    },
    {
      "cell_type": "code",
      "metadata": {
        "id": "FTZTrguWVnAM",
        "colab_type": "code",
        "colab": {
          "base_uri": "https://localhost:8080/",
          "height": 345
        },
        "outputId": "2d31d805-8751-4941-9b7f-d694ad0c48fd"
      },
      "source": [
        "print(np.linalg.inv(singular))"
      ],
      "execution_count": null,
      "outputs": [
        {
          "output_type": "error",
          "ename": "LinAlgError",
          "evalue": "ignored",
          "traceback": [
            "\u001b[0;31m---------------------------------------------------------------------------\u001b[0m",
            "\u001b[0;31mLinAlgError\u001b[0m                               Traceback (most recent call last)",
            "\u001b[0;32m<ipython-input-18-01ed17e23adb>\u001b[0m in \u001b[0;36m<module>\u001b[0;34m()\u001b[0m\n\u001b[0;32m----> 1\u001b[0;31m \u001b[0mprint\u001b[0m\u001b[0;34m(\u001b[0m\u001b[0mnp\u001b[0m\u001b[0;34m.\u001b[0m\u001b[0mlinalg\u001b[0m\u001b[0;34m.\u001b[0m\u001b[0minv\u001b[0m\u001b[0;34m(\u001b[0m\u001b[0msingular\u001b[0m\u001b[0;34m)\u001b[0m\u001b[0;34m)\u001b[0m\u001b[0;34m\u001b[0m\u001b[0;34m\u001b[0m\u001b[0m\n\u001b[0m",
            "\u001b[0;32m<__array_function__ internals>\u001b[0m in \u001b[0;36minv\u001b[0;34m(*args, **kwargs)\u001b[0m\n",
            "\u001b[0;32m/usr/local/lib/python3.6/dist-packages/numpy/linalg/linalg.py\u001b[0m in \u001b[0;36minv\u001b[0;34m(a)\u001b[0m\n\u001b[1;32m    545\u001b[0m     \u001b[0msignature\u001b[0m \u001b[0;34m=\u001b[0m \u001b[0;34m'D->D'\u001b[0m \u001b[0;32mif\u001b[0m \u001b[0misComplexType\u001b[0m\u001b[0;34m(\u001b[0m\u001b[0mt\u001b[0m\u001b[0;34m)\u001b[0m \u001b[0;32melse\u001b[0m \u001b[0;34m'd->d'\u001b[0m\u001b[0;34m\u001b[0m\u001b[0;34m\u001b[0m\u001b[0m\n\u001b[1;32m    546\u001b[0m     \u001b[0mextobj\u001b[0m \u001b[0;34m=\u001b[0m \u001b[0mget_linalg_error_extobj\u001b[0m\u001b[0;34m(\u001b[0m\u001b[0m_raise_linalgerror_singular\u001b[0m\u001b[0;34m)\u001b[0m\u001b[0;34m\u001b[0m\u001b[0;34m\u001b[0m\u001b[0m\n\u001b[0;32m--> 547\u001b[0;31m     \u001b[0mainv\u001b[0m \u001b[0;34m=\u001b[0m \u001b[0m_umath_linalg\u001b[0m\u001b[0;34m.\u001b[0m\u001b[0minv\u001b[0m\u001b[0;34m(\u001b[0m\u001b[0ma\u001b[0m\u001b[0;34m,\u001b[0m \u001b[0msignature\u001b[0m\u001b[0;34m=\u001b[0m\u001b[0msignature\u001b[0m\u001b[0;34m,\u001b[0m \u001b[0mextobj\u001b[0m\u001b[0;34m=\u001b[0m\u001b[0mextobj\u001b[0m\u001b[0;34m)\u001b[0m\u001b[0;34m\u001b[0m\u001b[0;34m\u001b[0m\u001b[0m\n\u001b[0m\u001b[1;32m    548\u001b[0m     \u001b[0;32mreturn\u001b[0m \u001b[0mwrap\u001b[0m\u001b[0;34m(\u001b[0m\u001b[0mainv\u001b[0m\u001b[0;34m.\u001b[0m\u001b[0mastype\u001b[0m\u001b[0;34m(\u001b[0m\u001b[0mresult_t\u001b[0m\u001b[0;34m,\u001b[0m \u001b[0mcopy\u001b[0m\u001b[0;34m=\u001b[0m\u001b[0;32mFalse\u001b[0m\u001b[0;34m)\u001b[0m\u001b[0;34m)\u001b[0m\u001b[0;34m\u001b[0m\u001b[0;34m\u001b[0m\u001b[0m\n\u001b[1;32m    549\u001b[0m \u001b[0;34m\u001b[0m\u001b[0m\n",
            "\u001b[0;32m/usr/local/lib/python3.6/dist-packages/numpy/linalg/linalg.py\u001b[0m in \u001b[0;36m_raise_linalgerror_singular\u001b[0;34m(err, flag)\u001b[0m\n\u001b[1;32m     95\u001b[0m \u001b[0;34m\u001b[0m\u001b[0m\n\u001b[1;32m     96\u001b[0m \u001b[0;32mdef\u001b[0m \u001b[0m_raise_linalgerror_singular\u001b[0m\u001b[0;34m(\u001b[0m\u001b[0merr\u001b[0m\u001b[0;34m,\u001b[0m \u001b[0mflag\u001b[0m\u001b[0;34m)\u001b[0m\u001b[0;34m:\u001b[0m\u001b[0;34m\u001b[0m\u001b[0;34m\u001b[0m\u001b[0m\n\u001b[0;32m---> 97\u001b[0;31m     \u001b[0;32mraise\u001b[0m \u001b[0mLinAlgError\u001b[0m\u001b[0;34m(\u001b[0m\u001b[0;34m\"Singular matrix\"\u001b[0m\u001b[0;34m)\u001b[0m\u001b[0;34m\u001b[0m\u001b[0;34m\u001b[0m\u001b[0m\n\u001b[0m\u001b[1;32m     98\u001b[0m \u001b[0;34m\u001b[0m\u001b[0m\n\u001b[1;32m     99\u001b[0m \u001b[0;32mdef\u001b[0m \u001b[0m_raise_linalgerror_nonposdef\u001b[0m\u001b[0;34m(\u001b[0m\u001b[0merr\u001b[0m\u001b[0;34m,\u001b[0m \u001b[0mflag\u001b[0m\u001b[0;34m)\u001b[0m\u001b[0;34m:\u001b[0m\u001b[0;34m\u001b[0m\u001b[0;34m\u001b[0m\u001b[0m\n",
            "\u001b[0;31mLinAlgError\u001b[0m: Singular matrix"
          ]
        }
      ]
    },
    {
      "cell_type": "markdown",
      "metadata": {
        "id": "HMSceG0pWl44",
        "colab_type": "text"
      },
      "source": [
        "#APLICACIÓN DE LA INVERSA DE UNA MATRIZ PARA RESOLVER UN SISTEMA DE ECUACIONES LINEALES"
      ]
    },
    {
      "cell_type": "code",
      "metadata": {
        "id": "Au1IOLijV1VA",
        "colab_type": "code",
        "colab": {}
      },
      "source": [
        "np.set_printoptions(suppress=True)"
      ],
      "execution_count": null,
      "outputs": []
    },
    {
      "cell_type": "code",
      "metadata": {
        "id": "nu08508DXEOH",
        "colab_type": "code",
        "colab": {
          "base_uri": "https://localhost:8080/",
          "height": 50
        },
        "outputId": "fc3048f1-6de3-4961-eaf9-d6ec567c4920"
      },
      "source": [
        "A = np.array([[3,1],[2,1]])\n",
        "print(A)"
      ],
      "execution_count": null,
      "outputs": [
        {
          "output_type": "stream",
          "text": [
            "[[3 1]\n",
            " [2 1]]\n"
          ],
          "name": "stdout"
        }
      ]
    },
    {
      "cell_type": "code",
      "metadata": {
        "id": "tBmR0LnIXNsA",
        "colab_type": "code",
        "colab": {}
      },
      "source": [
        "b = np.array([[1],[1]])\n"
      ],
      "execution_count": null,
      "outputs": []
    },
    {
      "cell_type": "code",
      "metadata": {
        "id": "22H6FPzsXXJJ",
        "colab_type": "code",
        "colab": {
          "base_uri": "https://localhost:8080/",
          "height": 50
        },
        "outputId": "8bb6001a-de22-489d-87c9-ca10a258cfe3"
      },
      "source": [
        "inversa_A = np.linalg.inv(A)\n",
        "print(inversa_A)"
      ],
      "execution_count": null,
      "outputs": [
        {
          "output_type": "stream",
          "text": [
            "[[ 1. -1.]\n",
            " [-2.  3.]]\n"
          ],
          "name": "stdout"
        }
      ]
    },
    {
      "cell_type": "code",
      "metadata": {
        "id": "M1WwWlkkXfmd",
        "colab_type": "code",
        "colab": {
          "base_uri": "https://localhost:8080/",
          "height": 50
        },
        "outputId": "1622e8f7-e308-408c-eb92-689f04d31061"
      },
      "source": [
        "x = inversa_A.dot(b)\n",
        "print(x)"
      ],
      "execution_count": null,
      "outputs": [
        {
          "output_type": "stream",
          "text": [
            "[[0.]\n",
            " [1.]]\n"
          ],
          "name": "stdout"
        }
      ]
    },
    {
      "cell_type": "code",
      "metadata": {
        "id": "Wds1x7PvXwvi",
        "colab_type": "code",
        "colab": {
          "base_uri": "https://localhost:8080/",
          "height": 50
        },
        "outputId": "1fb6981b-957f-4823-a739-71d0e1bb62a4"
      },
      "source": [
        "print(A.dot(x))"
      ],
      "execution_count": null,
      "outputs": [
        {
          "output_type": "stream",
          "text": [
            "[[1.]\n",
            " [1.]]\n"
          ],
          "name": "stdout"
        }
      ]
    },
    {
      "cell_type": "code",
      "metadata": {
        "id": "57_dFobeYOR-",
        "colab_type": "code",
        "colab": {
          "base_uri": "https://localhost:8080/",
          "height": 50
        },
        "outputId": "bef1a322-fca0-489d-bbde-6b33d01f3d55"
      },
      "source": [
        "sol_2 = inversa_A.dot(np.array([[3],[7]]))\n",
        "print(sol_2)"
      ],
      "execution_count": null,
      "outputs": [
        {
          "output_type": "stream",
          "text": [
            "[[-4.]\n",
            " [15.]]\n"
          ],
          "name": "stdout"
        }
      ]
    },
    {
      "cell_type": "code",
      "metadata": {
        "id": "d-Z2UjnHZILT",
        "colab_type": "code",
        "colab": {
          "base_uri": "https://localhost:8080/",
          "height": 50
        },
        "outputId": "3aa98da1-f38c-4be0-a73e-571042a0702f"
      },
      "source": [
        "print(A.dot(sol_2))"
      ],
      "execution_count": null,
      "outputs": [
        {
          "output_type": "stream",
          "text": [
            "[[3.]\n",
            " [7.]]\n"
          ],
          "name": "stdout"
        }
      ]
    },
    {
      "cell_type": "markdown",
      "metadata": {
        "id": "hpCOBn02Zxj-",
        "colab_type": "text"
      },
      "source": [
        "#Sistemas de ecuaciones lineales sin solución, con una solución y con infinitas soluciones"
      ]
    },
    {
      "cell_type": "code",
      "metadata": {
        "id": "t8MXL9GLZayw",
        "colab_type": "code",
        "colab": {}
      },
      "source": [
        "#%matplotlib notebook"
      ],
      "execution_count": null,
      "outputs": []
    },
    {
      "cell_type": "code",
      "metadata": {
        "id": "ZXAf37o6c5uy",
        "colab_type": "code",
        "colab": {}
      },
      "source": [
        "import matplotlib.pyplot as plt\n",
        "%matplotlib inline\n",
        "\n"
      ],
      "execution_count": null,
      "outputs": []
    },
    {
      "cell_type": "code",
      "metadata": {
        "id": "JoN71T-zaM1B",
        "colab_type": "code",
        "colab": {}
      },
      "source": [
        "#Cuando no tienen soluciones\n",
        "x = np.arange(-6,6)\n",
        "\n",
        "y_1 = 3*x+5\n",
        "y_2 = -x+3\n",
        "y_3 = 2*x+1\n"
      ],
      "execution_count": null,
      "outputs": []
    },
    {
      "cell_type": "code",
      "metadata": {
        "id": "U0ejGjBMa1mC",
        "colab_type": "code",
        "colab": {
          "base_uri": "https://localhost:8080/",
          "height": 285
        },
        "outputId": "5b4bfa79-1e69-4930-8fc5-41350c87a823"
      },
      "source": [
        "plt.figure()\n",
        "plt.plot(x, y_1)\n",
        "plt.plot(x, y_2)\n",
        "plt.plot(x, y_3)\n",
        "\n",
        "plt.xlim(-8,8)\n",
        "plt.ylim(-8,8)\n",
        "\n",
        "plt.axvline(x=0, color='grey')\n",
        "plt.axhline(y=0, color='grey')\n",
        "\n",
        "plt.show"
      ],
      "execution_count": null,
      "outputs": [
        {
          "output_type": "execute_result",
          "data": {
            "text/plain": [
              "<function matplotlib.pyplot.show>"
            ]
          },
          "metadata": {
            "tags": []
          },
          "execution_count": 53
        },
        {
          "output_type": "display_data",
          "data": {
            "image/png": "[encoded data removed]",
            "text/plain": [
              "<Figure size 432x288 with 1 Axes>"
            ]
          },
          "metadata": {
            "tags": [],
            "needs_background": "light"
          }
        }
      ]
    },
    {
      "cell_type": "code",
      "metadata": {
        "id": "z5rS4oRuecn5",
        "colab_type": "code",
        "colab": {}
      },
      "source": [
        "##No hay un punto en que las tres líneas se unan entonces no tiene soluciones\n",
        "#Hay mas ecuaciones que variable, es sobre determinado"
      ],
      "execution_count": null,
      "outputs": []
    },
    {
      "cell_type": "code",
      "metadata": {
        "id": "xk8xDoAPb9jw",
        "colab_type": "code",
        "colab": {}
      },
      "source": [
        "#Cuando tienen una solución\n",
        "x = np.arange(-6,6)\n",
        "y_2 = -1*x+3\n",
        "y_3 = 2*x+1\n",
        "\n",
        "#Cuando tiene dos ecuaciones, dos variables, es determinado"
      ],
      "execution_count": null,
      "outputs": []
    },
    {
      "cell_type": "code",
      "metadata": {
        "id": "pLr5-mMbd7GV",
        "colab_type": "code",
        "colab": {
          "base_uri": "https://localhost:8080/",
          "height": 285
        },
        "outputId": "6018257a-5658-40d4-f85a-fc2671bc51a0"
      },
      "source": [
        "plt.figure()\n",
        "\n",
        "plt.plot(x, y_2)\n",
        "plt.plot(x, y_3)\n",
        "\n",
        "plt.xlim(-8,8)\n",
        "plt.ylim(-8,8)\n",
        "\n",
        "plt.axvline(x=0, color='grey')\n",
        "plt.axhline(y=0, color='grey')\n",
        "\n",
        "plt.show"
      ],
      "execution_count": null,
      "outputs": [
        {
          "output_type": "execute_result",
          "data": {
            "text/plain": [
              "<function matplotlib.pyplot.show>"
            ]
          },
          "metadata": {
            "tags": []
          },
          "execution_count": 59
        },
        {
          "output_type": "display_data",
          "data": {
            "image/png": "[encoded data removed]",
            "text/plain": [
              "<Figure size 432x288 with 1 Axes>"
            ]
          },
          "metadata": {
            "tags": [],
            "needs_background": "light"
          }
        }
      ]
    },
    {
      "cell_type": "code",
      "metadata": {
        "id": "ex0Jx_jxejBp",
        "colab_type": "code",
        "colab": {}
      },
      "source": [
        "#Cuando tienen infinita soluciones\n",
        "x = np.arange(-6,6)\n",
        "\n",
        "y_3 = 2*x+1\n",
        "\n",
        "#Cuando tiene una ecuación y dos variable, es indeterminado"
      ],
      "execution_count": null,
      "outputs": []
    },
    {
      "cell_type": "code",
      "metadata": {
        "id": "qxI6vhd1fFb2",
        "colab_type": "code",
        "colab": {
          "base_uri": "https://localhost:8080/",
          "height": 285
        },
        "outputId": "beed87e3-1100-47a6-cf96-31efc23cb9a3"
      },
      "source": [
        "plt.figure()\n",
        "\n",
        "plt.plot(x, y_3)\n",
        "\n",
        "plt.xlim(-8,8)\n",
        "plt.ylim(-8,8)\n",
        "\n",
        "plt.axvline(x=0, color='grey')\n",
        "plt.axhline(y=0, color='grey')\n",
        "\n",
        "plt.show"
      ],
      "execution_count": null,
      "outputs": [
        {
          "output_type": "execute_result",
          "data": {
            "text/plain": [
              "<function matplotlib.pyplot.show>"
            ]
          },
          "metadata": {
            "tags": []
          },
          "execution_count": 62
        },
        {
          "output_type": "display_data",
          "data": {
            "image/png": "[encoded data removed]",
            "text/plain": [
              "<Figure size 432x288 with 1 Axes>"
            ]
          },
          "metadata": {
            "tags": [],
            "needs_background": "light"
          }
        }
      ]
    },
    {
      "cell_type": "markdown",
      "metadata": {
        "id": "AO2UuQ28gAHt",
        "colab_type": "text"
      },
      "source": [
        "#Graficar vectores"
      ]
    },
    {
      "cell_type": "code",
      "metadata": {
        "id": "HNjtjo1CfTTj",
        "colab_type": "code",
        "colab": {}
      },
      "source": [
        "v1 = np.array([2,5])\n",
        "v2 = np.array([3,2])\n"
      ],
      "execution_count": null,
      "outputs": []
    },
    {
      "cell_type": "code",
      "metadata": {
        "id": "1gnxN0QdgwPA",
        "colab_type": "code",
        "colab": {}
      },
      "source": [
        "def graficarVectores(vecs, cols, alpha=1):\n",
        "\n",
        "  plt.figure()\n",
        "  plt.axvline(x = 0, color = 'grey', zorder = 0)\n",
        "  plt.axhline(y = 0, color = 'grey', zorder = 0)\n",
        "\n",
        "  for i in range(len(vecs)):\n",
        "    x = np.concatenate([[0,0], vecs[i]])\n",
        "    plt.quiver([x[0]],\n",
        "               [x[1]],\n",
        "               [x[2]],\n",
        "               [x[3]],\n",
        "               angles='xy', scale_units='xy', scale=1,\n",
        "               color=cols[i],\n",
        "               alpha = alpha)\n"
      ],
      "execution_count": null,
      "outputs": []
    },
    {
      "cell_type": "code",
      "metadata": {
        "id": "3UnKwLMCkieB",
        "colab_type": "code",
        "colab": {
          "base_uri": "https://localhost:8080/",
          "height": 285
        },
        "outputId": "c56c852b-fafe-462a-e614-34bb633ba078"
      },
      "source": [
        "graficarVectores([v1, v2], ['orange', 'blue'])\n",
        "plt.xlim(-1,8)\n",
        "plt.ylim(-1,8)"
      ],
      "execution_count": null,
      "outputs": [
        {
          "output_type": "execute_result",
          "data": {
            "text/plain": [
              "(-1.0, 8.0)"
            ]
          },
          "metadata": {
            "tags": []
          },
          "execution_count": 66
        },
        {
          "output_type": "display_data",
          "data": {
            "image/png": "[encoded data removed]",
            "text/plain": [
              "<Figure size 432x288 with 1 Axes>"
            ]
          },
          "metadata": {
            "tags": [],
            "needs_background": "light"
          }
        }
      ]
    },
    {
      "cell_type": "code",
      "metadata": {
        "id": "6v1aYPtTk75z",
        "colab_type": "code",
        "colab": {}
      },
      "source": [
        "%run \"/content/drive/My Drive/Colab Notebooks/Graficar vectores.ipynb\""
      ],
      "execution_count": null,
      "outputs": []
    },
    {
      "cell_type": "code",
      "metadata": {
        "id": "Mb1S0uj_pHxh",
        "colab_type": "code",
        "colab": {
          "base_uri": "https://localhost:8080/",
          "height": 285
        },
        "outputId": "a1106646-77de-4e90-bb00-cc6d6c4d977e"
      },
      "source": [
        "graficarVectores([v1, v2], ['orange', 'blue'])\n",
        "plt.xlim(-1,8)\n",
        "plt.ylim(-1,8)"
      ],
      "execution_count": null,
      "outputs": [
        {
          "output_type": "execute_result",
          "data": {
            "text/plain": [
              "(-1.0, 8.0)"
            ]
          },
          "metadata": {
            "tags": []
          },
          "execution_count": 68
        },
        {
          "output_type": "display_data",
          "data": {
            "image/png": "[encoded data removed]",
            "text/plain": [
              "<Figure size 432x288 with 1 Axes>"
            ]
          },
          "metadata": {
            "tags": [],
            "needs_background": "light"
          }
        }
      ]
    },
    {
      "cell_type": "markdown",
      "metadata": {
        "id": "EutfUUNjpfc-",
        "colab_type": "text"
      },
      "source": [
        "#Combinación lineal"
      ]
    },
    {
      "cell_type": "code",
      "metadata": {
        "id": "LrLLc2aIpLU3",
        "colab_type": "code",
        "colab": {
          "base_uri": "https://localhost:8080/",
          "height": 33
        },
        "outputId": "0267147d-9c88-410c-cd68-9126fb520061"
      },
      "source": [
        "%run %run \"/content/drive/My Drive/Colab Notebooks/Graficar vectores.ipynb\""
      ],
      "execution_count": null,
      "outputs": [
        {
          "output_type": "stream",
          "text": [
            "ERROR:root:File `'%run.py'` not found.\n"
          ],
          "name": "stderr"
        }
      ]
    },
    {
      "cell_type": "code",
      "metadata": {
        "id": "4qlBxjBxp-DA",
        "colab_type": "code",
        "colab": {}
      },
      "source": [
        "v1 = np.array([2,5])\n",
        "v2 = np.array([3,2])"
      ],
      "execution_count": null,
      "outputs": []
    },
    {
      "cell_type": "code",
      "metadata": {
        "id": "vDWRAdu_qJq4",
        "colab_type": "code",
        "colab": {}
      },
      "source": [
        "v1v2 = 2*v1+v2"
      ],
      "execution_count": null,
      "outputs": []
    },
    {
      "cell_type": "code",
      "metadata": {
        "id": "J_nmckHGqc-i",
        "colab_type": "code",
        "colab": {
          "base_uri": "https://localhost:8080/",
          "height": 33
        },
        "outputId": "d0521292-2b3b-47c9-f171-2dd521530055"
      },
      "source": [
        "print(v1v2)"
      ],
      "execution_count": null,
      "outputs": [
        {
          "output_type": "stream",
          "text": [
            "[ 7 12]\n"
          ],
          "name": "stdout"
        }
      ]
    },
    {
      "cell_type": "code",
      "metadata": {
        "id": "dp9PcXTJqfrw",
        "colab_type": "code",
        "colab": {
          "base_uri": "https://localhost:8080/",
          "height": 285
        },
        "outputId": "69195512-ca81-4cc7-c713-875f027acee9"
      },
      "source": [
        "graficarVectores([v1, v2, v1v2], ['orange', 'blue', 'red'])\n",
        "plt.xlim(-1,8)\n",
        "plt.ylim(-1,12)\n",
        "#combinación lineal entre dos vectores"
      ],
      "execution_count": null,
      "outputs": [
        {
          "output_type": "execute_result",
          "data": {
            "text/plain": [
              "(-1.0, 12.0)"
            ]
          },
          "metadata": {
            "tags": []
          },
          "execution_count": 81
        },
        {
          "output_type": "display_data",
          "data": {
            "image/png": "[encoded data removed]",
            "text/plain": [
              "<Figure size 432x288 with 1 Axes>"
            ]
          },
          "metadata": {
            "tags": [],
            "needs_background": "light"
          }
        }
      ]
    },
    {
      "cell_type": "code",
      "metadata": {
        "id": "u-xaRb71qv5U",
        "colab_type": "code",
        "colab": {
          "base_uri": "https://localhost:8080/",
          "height": 285
        },
        "outputId": "14f55c4f-a659-4c66-9a8f-8dde4d4abb45"
      },
      "source": [
        "for a in range(-10,10):\n",
        "  for b in range(-10,10):\n",
        "    plt.scatter(v1[0]*a + v2[0]*b,v1[1]*a + v2[1]*b,\n",
        "                marker = '.',\n",
        "                color = 'orange')\n",
        "    \n",
        "plt.xlim(-100,100)\n",
        "plt.ylim(-100,100)\n",
        "\n",
        "plt.axvline(x=0, color='grey')\n",
        "plt.axhline(y=0, color='grey')\n",
        "\n",
        "plt.show"
      ],
      "execution_count": null,
      "outputs": [
        {
          "output_type": "execute_result",
          "data": {
            "text/plain": [
              "<function matplotlib.pyplot.show>"
            ]
          },
          "metadata": {
            "tags": []
          },
          "execution_count": 83
        },
        {
          "output_type": "display_data",
          "data": {
            "image/png": "[encoded data removed]",
            "text/plain": [
              "<Figure size 432x288 with 1 Axes>"
            ]
          },
          "metadata": {
            "tags": [],
            "needs_background": "light"
          }
        }
      ]
    },
    {
      "cell_type": "markdown",
      "metadata": {
        "id": "Okx2YdEayyhc",
        "colab_type": "text"
      },
      "source": [
        "#Espacio y subespacio"
      ]
    },
    {
      "cell_type": "code",
      "metadata": {
        "id": "1GRduHyIsw_1",
        "colab_type": "code",
        "colab": {}
      },
      "source": [
        "v1 = np.array([1,1])\n",
        "v2 = np.array([-1,-1])"
      ],
      "execution_count": null,
      "outputs": []
    },
    {
      "cell_type": "code",
      "metadata": {
        "id": "DJiC-lf7zM6T",
        "colab_type": "code",
        "colab": {
          "base_uri": "https://localhost:8080/",
          "height": 281
        },
        "outputId": "c7e0720d-0c04-465a-8b40-645b318741ac"
      },
      "source": [
        "for a in range(-10,10):\n",
        "  for b in range(-10,10):\n",
        "    plt.scatter(v1[0]*a + v2[0]*b,v1[1]*a + v2[1]*b,\n",
        "                marker = '.',\n",
        "                color = 'orange')\n",
        "    \n",
        "plt.xlim(-25,25)\n",
        "plt.ylim(-25,25)\n",
        "\n",
        "plt.axvline(x=0, color='grey')\n",
        "plt.axhline(y=0, color='grey')\n",
        "\n",
        "plt.show"
      ],
      "execution_count": null,
      "outputs": [
        {
          "output_type": "execute_result",
          "data": {
            "text/plain": [
              "<function matplotlib.pyplot.show>"
            ]
          },
          "metadata": {
            "tags": []
          },
          "execution_count": 87
        },
        {
          "output_type": "display_data",
          "data": {
            "image/png": "[encoded data removed]",
            "text/plain": [
              "<Figure size 432x288 with 1 Axes>"
            ]
          },
          "metadata": {
            "tags": [],
            "needs_background": "light"
          }
        }
      ]
    },
    {
      "cell_type": "code",
      "metadata": {
        "id": "7VU1GY-pzfs6",
        "colab_type": "code",
        "colab": {}
      },
      "source": [
        "v1 = np.array([1,0])\n",
        "v2 = np.array([2,-3])"
      ],
      "execution_count": null,
      "outputs": []
    },
    {
      "cell_type": "code",
      "metadata": {
        "id": "VbWeEGf13aJe",
        "colab_type": "code",
        "colab": {
          "base_uri": "https://localhost:8080/",
          "height": 281
        },
        "outputId": "207d1288-3345-42bc-a0dd-9f6289565113"
      },
      "source": [
        "for a in range(-10,10):\n",
        "  for b in range(-10,10):\n",
        "    plt.scatter(v1[0]*a + v2[0]*b,v1[1]*a + v2[1]*b,\n",
        "                marker = '.',\n",
        "                color = 'orange')\n",
        "    \n",
        "plt.xlim(-25,25)\n",
        "plt.ylim(-25,25)\n",
        "\n",
        "plt.axvline(x=0, color='grey')\n",
        "plt.axhline(y=0, color='grey')\n",
        "\n",
        "plt.show"
      ],
      "execution_count": null,
      "outputs": [
        {
          "output_type": "execute_result",
          "data": {
            "text/plain": [
              "<function matplotlib.pyplot.show>"
            ]
          },
          "metadata": {
            "tags": []
          },
          "execution_count": 90
        },
        {
          "output_type": "display_data",
          "data": {
            "image/png": "[encoded data removed]",
            "text/plain": [
              "<Figure size 432x288 with 1 Axes>"
            ]
          },
          "metadata": {
            "tags": [],
            "needs_background": "light"
          }
        }
      ]
    },
    {
      "cell_type": "code",
      "metadata": {
        "id": "IWPcqPmO3d6G",
        "colab_type": "code",
        "colab": {}
      },
      "source": [
        "from mpl_toolkits.mplot3d import Axes3D\n",
        "import numpy as np\n",
        "import matplotlib.pyplot as plt\n",
        "\n",
        "v1 = np.array([1,0, 0])\n",
        "v2 = np.array([2,-3,0])"
      ],
      "execution_count": 7,
      "outputs": []
    },
    {
      "cell_type": "code",
      "metadata": {
        "id": "A0jN9kiJ4c6R",
        "colab_type": "code",
        "colab": {
          "base_uri": "https://localhost:8080/",
          "height": 247
        },
        "outputId": "bd5056c7-7de1-4586-ff3d-d0d996cd997d"
      },
      "source": [
        "fig = plt.figure()\n",
        "ax = fig.add_subplot(111, projection='3d')\n",
        "\n",
        "for a in range(-10,10):\n",
        "  for b in range(-10,10):\n",
        "    ax.scatter(v1[0]*a + v2[0]*b,v1[1]*a + v2[1]*b, \n",
        "               v1[2]*a + v2[2]*b,\n",
        "                marker = '.',\n",
        "                color = 'orange')\n",
        "ax.set_xlabel('Eje X')\n",
        "ax.set_ylabel('Eje Y')\n",
        "ax.set_zlabel('Eje Z')\n",
        "    \n",
        "plt.xlim(-25,25)\n",
        "plt.ylim(-25,25)\n",
        "\n",
        "\n",
        "plt.show()"
      ],
      "execution_count": 8,
      "outputs": [
        {
          "output_type": "display_data",
          "data": {
            "image/png": "[encoded data removed]",
            "text/plain": [
              "<Figure size 432x288 with 1 Axes>"
            ]
          },
          "metadata": {
            "tags": [],
            "needs_background": "light"
          }
        }
      ]
    },
    {
      "cell_type": "markdown",
      "metadata": {
        "id": "6JW9Osnu9HWd",
        "colab_type": "text"
      },
      "source": [
        "#Vectores linealmente independientes"
      ]
    },
    {
      "cell_type": "code",
      "metadata": {
        "id": "dj1BjMDx8-PV",
        "colab_type": "code",
        "colab": {
          "base_uri": "https://localhost:8080/",
          "height": 33
        },
        "outputId": "8d13efab-2ad8-4165-b36e-193feb7c290e"
      },
      "source": [
        "v1 = np.array([1,1])\n",
        "v2 = np.array([-1,-1])\n",
        "\n",
        "print(v1,v2)"
      ],
      "execution_count": 9,
      "outputs": [
        {
          "output_type": "stream",
          "text": [
            "[1 1] [-1 -1]\n"
          ],
          "name": "stdout"
        }
      ]
    },
    {
      "cell_type": "code",
      "metadata": {
        "id": "CQ3z94vv9stx",
        "colab_type": "code",
        "colab": {
          "base_uri": "https://localhost:8080/",
          "height": 265
        },
        "outputId": "27fb1588-bb92-4ca2-b8a0-328847235b38"
      },
      "source": [
        "for a in range(-10,10):\n",
        "  for b in range(-10,10):\n",
        "    plt.scatter(v1[0]*a + v2[0]*b,v1[1]*a + v2[1]*b,\n",
        "                marker = '.',\n",
        "                color = 'orange')\n",
        "    \n",
        "plt.xlim(-25,25)\n",
        "plt.ylim(-25,25)\n",
        "\n",
        "plt.axvline(x=0, color='grey')\n",
        "plt.axhline(y=0, color='grey')\n",
        "\n",
        "plt.show()"
      ],
      "execution_count": 10,
      "outputs": [
        {
          "output_type": "display_data",
          "data": {
            "image/png": "[encoded data removed]",
            "text/plain": [
              "<Figure size 432x288 with 1 Axes>"
            ]
          },
          "metadata": {
            "tags": [],
            "needs_background": "light"
          }
        }
      ]
    },
    {
      "cell_type": "code",
      "metadata": {
        "id": "8rEVOfNd-CYJ",
        "colab_type": "code",
        "colab": {
          "base_uri": "https://localhost:8080/",
          "height": 33
        },
        "outputId": "f9d91f04-591d-46a6-8db2-ca07d6d10fbd"
      },
      "source": [
        "print(v1 == -1*v2)"
      ],
      "execution_count": 11,
      "outputs": [
        {
          "output_type": "stream",
          "text": [
            "[ True  True]\n"
          ],
          "name": "stdout"
        }
      ]
    },
    {
      "cell_type": "markdown",
      "metadata": {
        "id": "GZI9dcSI-9j5",
        "colab_type": "text"
      },
      "source": [
        "#Validar que una matriz tenga inversa"
      ]
    },
    {
      "cell_type": "code",
      "metadata": {
        "id": "iUBvZtOu-m_E",
        "colab_type": "code",
        "colab": {}
      },
      "source": [
        "A = np.array(\n",
        "    [[0,1,0,0],\n",
        "    [0,0,1,0],\n",
        "    [0,1,1,0],\n",
        "    [1,0,0,1]]\n",
        "    )"
      ],
      "execution_count": 12,
      "outputs": []
    },
    {
      "cell_type": "code",
      "metadata": {
        "id": "BAD8odLZ_oWA",
        "colab_type": "code",
        "colab": {
          "base_uri": "https://localhost:8080/",
          "height": 33
        },
        "outputId": "62a52ccd-c252-497f-8d37-76b2b4c56852"
      },
      "source": [
        "#Auto valores y auto vectores\n",
        "lambdas, V = np.linalg.eig(A.T)\n",
        "\n",
        "print(A[lambdas == 0, :])\n"
      ],
      "execution_count": 13,
      "outputs": [
        {
          "output_type": "stream",
          "text": [
            "[[0 1 1 0]]\n"
          ],
          "name": "stdout"
        }
      ]
    },
    {
      "cell_type": "code",
      "metadata": {
        "id": "0fSnOuq2Agyz",
        "colab_type": "code",
        "colab": {
          "base_uri": "https://localhost:8080/",
          "height": 345
        },
        "outputId": "c9e31cd6-866d-4e15-8cac-86d3a23778f1"
      },
      "source": [
        "np.linalg.inv(A)"
      ],
      "execution_count": 14,
      "outputs": [
        {
          "output_type": "error",
          "ename": "LinAlgError",
          "evalue": "ignored",
          "traceback": [
            "\u001b[0;31m---------------------------------------------------------------------------\u001b[0m",
            "\u001b[0;31mLinAlgError\u001b[0m                               Traceback (most recent call last)",
            "\u001b[0;32m<ipython-input-14-ae645f97e1f8>\u001b[0m in \u001b[0;36m<module>\u001b[0;34m()\u001b[0m\n\u001b[0;32m----> 1\u001b[0;31m \u001b[0mnp\u001b[0m\u001b[0;34m.\u001b[0m\u001b[0mlinalg\u001b[0m\u001b[0;34m.\u001b[0m\u001b[0minv\u001b[0m\u001b[0;34m(\u001b[0m\u001b[0mA\u001b[0m\u001b[0;34m)\u001b[0m\u001b[0;34m\u001b[0m\u001b[0;34m\u001b[0m\u001b[0m\n\u001b[0m",
            "\u001b[0;32m<__array_function__ internals>\u001b[0m in \u001b[0;36minv\u001b[0;34m(*args, **kwargs)\u001b[0m\n",
            "\u001b[0;32m/usr/local/lib/python3.6/dist-packages/numpy/linalg/linalg.py\u001b[0m in \u001b[0;36minv\u001b[0;34m(a)\u001b[0m\n\u001b[1;32m    545\u001b[0m     \u001b[0msignature\u001b[0m \u001b[0;34m=\u001b[0m \u001b[0;34m'D->D'\u001b[0m \u001b[0;32mif\u001b[0m \u001b[0misComplexType\u001b[0m\u001b[0;34m(\u001b[0m\u001b[0mt\u001b[0m\u001b[0;34m)\u001b[0m \u001b[0;32melse\u001b[0m \u001b[0;34m'd->d'\u001b[0m\u001b[0;34m\u001b[0m\u001b[0;34m\u001b[0m\u001b[0m\n\u001b[1;32m    546\u001b[0m     \u001b[0mextobj\u001b[0m \u001b[0;34m=\u001b[0m \u001b[0mget_linalg_error_extobj\u001b[0m\u001b[0;34m(\u001b[0m\u001b[0m_raise_linalgerror_singular\u001b[0m\u001b[0;34m)\u001b[0m\u001b[0;34m\u001b[0m\u001b[0;34m\u001b[0m\u001b[0m\n\u001b[0;32m--> 547\u001b[0;31m     \u001b[0mainv\u001b[0m \u001b[0;34m=\u001b[0m \u001b[0m_umath_linalg\u001b[0m\u001b[0;34m.\u001b[0m\u001b[0minv\u001b[0m\u001b[0;34m(\u001b[0m\u001b[0ma\u001b[0m\u001b[0;34m,\u001b[0m \u001b[0msignature\u001b[0m\u001b[0;34m=\u001b[0m\u001b[0msignature\u001b[0m\u001b[0;34m,\u001b[0m \u001b[0mextobj\u001b[0m\u001b[0;34m=\u001b[0m\u001b[0mextobj\u001b[0m\u001b[0;34m)\u001b[0m\u001b[0;34m\u001b[0m\u001b[0;34m\u001b[0m\u001b[0m\n\u001b[0m\u001b[1;32m    548\u001b[0m     \u001b[0;32mreturn\u001b[0m \u001b[0mwrap\u001b[0m\u001b[0;34m(\u001b[0m\u001b[0mainv\u001b[0m\u001b[0;34m.\u001b[0m\u001b[0mastype\u001b[0m\u001b[0;34m(\u001b[0m\u001b[0mresult_t\u001b[0m\u001b[0;34m,\u001b[0m \u001b[0mcopy\u001b[0m\u001b[0;34m=\u001b[0m\u001b[0;32mFalse\u001b[0m\u001b[0;34m)\u001b[0m\u001b[0;34m)\u001b[0m\u001b[0;34m\u001b[0m\u001b[0;34m\u001b[0m\u001b[0m\n\u001b[1;32m    549\u001b[0m \u001b[0;34m\u001b[0m\u001b[0m\n",
            "\u001b[0;32m/usr/local/lib/python3.6/dist-packages/numpy/linalg/linalg.py\u001b[0m in \u001b[0;36m_raise_linalgerror_singular\u001b[0;34m(err, flag)\u001b[0m\n\u001b[1;32m     95\u001b[0m \u001b[0;34m\u001b[0m\u001b[0m\n\u001b[1;32m     96\u001b[0m \u001b[0;32mdef\u001b[0m \u001b[0m_raise_linalgerror_singular\u001b[0m\u001b[0;34m(\u001b[0m\u001b[0merr\u001b[0m\u001b[0;34m,\u001b[0m \u001b[0mflag\u001b[0m\u001b[0;34m)\u001b[0m\u001b[0;34m:\u001b[0m\u001b[0;34m\u001b[0m\u001b[0;34m\u001b[0m\u001b[0m\n\u001b[0;32m---> 97\u001b[0;31m     \u001b[0;32mraise\u001b[0m \u001b[0mLinAlgError\u001b[0m\u001b[0;34m(\u001b[0m\u001b[0;34m\"Singular matrix\"\u001b[0m\u001b[0;34m)\u001b[0m\u001b[0;34m\u001b[0m\u001b[0;34m\u001b[0m\u001b[0m\n\u001b[0m\u001b[1;32m     98\u001b[0m \u001b[0;34m\u001b[0m\u001b[0m\n\u001b[1;32m     99\u001b[0m \u001b[0;32mdef\u001b[0m \u001b[0m_raise_linalgerror_nonposdef\u001b[0m\u001b[0;34m(\u001b[0m\u001b[0merr\u001b[0m\u001b[0;34m,\u001b[0m \u001b[0mflag\u001b[0m\u001b[0;34m)\u001b[0m\u001b[0;34m:\u001b[0m\u001b[0;34m\u001b[0m\u001b[0;34m\u001b[0m\u001b[0m\n",
            "\u001b[0;31mLinAlgError\u001b[0m: Singular matrix"
          ]
        }
      ]
    },
    {
      "cell_type": "markdown",
      "metadata": {
        "id": "ZSnlBO6qpq0s",
        "colab_type": "text"
      },
      "source": [
        "#Qué es una norma y para qué se usa. Desigualdad triangular"
      ]
    },
    {
      "cell_type": "code",
      "metadata": {
        "id": "Z0Yk6aV3BMmB",
        "colab_type": "code",
        "colab": {}
      },
      "source": [
        "# primera propiedad, norma (vector) >= 0 no puede ser negativa\n",
        "# segunda propiedad, la norma de v es 0 si y solo si v es 0\n",
        "# tercera propiedad, la norma de v3 es <= a la norma de v1 + la norma de v2\n",
        "# cuarta propieddad, la norma de un escalar por un vector(av) = abs(a).norma(v)"
      ],
      "execution_count": 15,
      "outputs": []
    },
    {
      "cell_type": "code",
      "metadata": {
        "id": "eZThd7Z6_wos",
        "colab_type": "code",
        "colab": {
          "base_uri": "https://localhost:8080/",
          "height": 86
        },
        "outputId": "56f7d9c0-0066-4909-e236-088224348645"
      },
      "source": [
        "import seaborn as sns\n",
        "\n",
        "v1 = np.array([2,7])\n",
        "v2 = np.array([3,5])\n",
        "print(v1,v2)"
      ],
      "execution_count": 16,
      "outputs": [
        {
          "output_type": "stream",
          "text": [
            "[2 7] [3 5]\n"
          ],
          "name": "stdout"
        },
        {
          "output_type": "stream",
          "text": [
            "/usr/local/lib/python3.6/dist-packages/statsmodels/tools/_testing.py:19: FutureWarning: pandas.util.testing is deprecated. Use the functions in the public API at pandas.testing instead.\n",
            "  import pandas.util.testing as tm\n"
          ],
          "name": "stderr"
        }
      ]
    },
    {
      "cell_type": "code",
      "metadata": {
        "id": "MVLONoBdAuV1",
        "colab_type": "code",
        "colab": {
          "base_uri": "https://localhost:8080/",
          "height": 33
        },
        "outputId": "d9e0cb2b-49c3-484d-aff2-576001583a65"
      },
      "source": [
        "v1v2 = v1+v2\n",
        "print(v1v2)"
      ],
      "execution_count": 17,
      "outputs": [
        {
          "output_type": "stream",
          "text": [
            "[ 5 12]\n"
          ],
          "name": "stdout"
        }
      ]
    },
    {
      "cell_type": "code",
      "metadata": {
        "id": "Os8t82gPA9vt",
        "colab_type": "code",
        "colab": {
          "base_uri": "https://localhost:8080/",
          "height": 33
        },
        "outputId": "0e6902b0-f4f9-4964-9a3c-9c511b93156a"
      },
      "source": [
        "np.linalg.norm(v1v2)"
      ],
      "execution_count": 18,
      "outputs": [
        {
          "output_type": "execute_result",
          "data": {
            "text/plain": [
              "13.0"
            ]
          },
          "metadata": {
            "tags": []
          },
          "execution_count": 18
        }
      ]
    },
    {
      "cell_type": "code",
      "metadata": {
        "id": "RaXxv5ZPBcSl",
        "colab_type": "code",
        "colab": {
          "base_uri": "https://localhost:8080/",
          "height": 33
        },
        "outputId": "be0fe4f5-3612-4627-f2e1-8a2cce4c8631"
      },
      "source": [
        "#norma (v1v2) <= norma(v1) + norma (v2)\n",
        "norma_v1 = np.linalg.norm(v1)\n",
        "norma_v2 = np.linalg.norm(v2)\n",
        "norma_v1v2 = np.linalg.norm(v1v2)\n",
        "print(norma_v1v2 <= (norma_v1+norma_v2))"
      ],
      "execution_count": 19,
      "outputs": [
        {
          "output_type": "stream",
          "text": [
            "True\n"
          ],
          "name": "stdout"
        }
      ]
    },
    {
      "cell_type": "code",
      "metadata": {
        "id": "LChwHaK4Cz11",
        "colab_type": "code",
        "colab": {
          "base_uri": "https://localhost:8080/",
          "height": 33
        },
        "outputId": "dc6b5362-ef3c-4745-b5ef-5307276090da"
      },
      "source": [
        "print(norma_v1+norma_v2)"
      ],
      "execution_count": 20,
      "outputs": [
        {
          "output_type": "stream",
          "text": [
            "13.11106178412582\n"
          ],
          "name": "stdout"
        }
      ]
    },
    {
      "cell_type": "code",
      "metadata": {
        "id": "XZqIfbHTD3WD",
        "colab_type": "code",
        "colab": {}
      },
      "source": [
        "v1 = np.array([0,0,2,7])\n",
        "v2 = np.array([0,0,3,5])\n",
        "v1_aux = np.array([v1[2],v1[3],v2[2],v2[3]])\n",
        "v1v2 = np.array([0,0,5,12])\n"
      ],
      "execution_count": 21,
      "outputs": []
    },
    {
      "cell_type": "code",
      "metadata": {
        "id": "FirXmMU9EXb8",
        "colab_type": "code",
        "colab": {
          "base_uri": "https://localhost:8080/",
          "height": 281
        },
        "outputId": "5527e06a-2e68-4bc3-db43-a8785b1dcd27"
      },
      "source": [
        "plt.quiver([v1[0],v1_aux[0],v1v2[0]],\n",
        "           [v1[1],v1_aux[1],v1v2[1]],\n",
        "           [v1[2],v1_aux[2],v1v2[2]],\n",
        "           [v1[3],v1_aux[3],v1v2[3]],\n",
        "           angles ='xy', scale_units='xy', scale= 1,\n",
        "           color = sns.color_palette()\n",
        "           )\n",
        "plt.xlim(-0.5, 6)\n",
        "plt.ylim(-0.5,15)"
      ],
      "execution_count": 22,
      "outputs": [
        {
          "output_type": "execute_result",
          "data": {
            "text/plain": [
              "(-0.5, 15.0)"
            ]
          },
          "metadata": {
            "tags": []
          },
          "execution_count": 22
        },
        {
          "output_type": "display_data",
          "data": {
            "image/png": "[encoded data removed]",
            "text/plain": [
              "<Figure size 432x288 with 1 Axes>"
            ]
          },
          "metadata": {
            "tags": [],
            "needs_background": "light"
          }
        }
      ]
    },
    {
      "cell_type": "markdown",
      "metadata": {
        "id": "kULjiA6TGKmR",
        "colab_type": "text"
      },
      "source": [
        "#Tipos de normas: norma 0, norma 1, norma 2, norma infinito, norma L2 al cuadrado\n",
        "\n"
      ]
    },
    {
      "cell_type": "code",
      "metadata": {
        "id": "uyUo_c1EFz94",
        "colab_type": "code",
        "colab": {}
      },
      "source": [
        "# usadas en machine learning para medir los errores\n",
        "# L0 devuelve: la cantidad de elementos distintos de 0\n",
        "# L1: la suma sobre i de los valores absolutos de los componentes del vector\n",
        "# L2 : la distancia euclidiana\n",
        "# L2 al cuadrado : la misma distancia sin calcularle el cuadrado\n",
        "# L_infinito : el mayor valor dentro de los valores absolutos del vector\n"
      ],
      "execution_count": 23,
      "outputs": []
    },
    {
      "cell_type": "code",
      "metadata": {
        "id": "QGxluXAOL6nS",
        "colab_type": "code",
        "colab": {
          "base_uri": "https://localhost:8080/",
          "height": 33
        },
        "outputId": "2cc8b052-ecb0-4df9-cce6-012f23b1a459"
      },
      "source": [
        "# Norma 0\n",
        "vector = np.array([1,2,0,5,6,0])\n",
        "print(np.linalg.norm(vector, ord=0))"
      ],
      "execution_count": 24,
      "outputs": [
        {
          "output_type": "stream",
          "text": [
            "4.0\n"
          ],
          "name": "stdout"
        }
      ]
    },
    {
      "cell_type": "code",
      "metadata": {
        "id": "jXNnG78aM5fj",
        "colab_type": "code",
        "colab": {
          "base_uri": "https://localhost:8080/",
          "height": 33
        },
        "outputId": "02c6659c-46eb-42d4-e3ec-f5fdcf0602ed"
      },
      "source": [
        "#norma 1\n",
        "vector_1 = np.array([1,-1,1,-1,1])\n",
        "print(np.linalg.norm(vector_1,ord=1))"
      ],
      "execution_count": 25,
      "outputs": [
        {
          "output_type": "stream",
          "text": [
            "5.0\n"
          ],
          "name": "stdout"
        }
      ]
    },
    {
      "cell_type": "code",
      "metadata": {
        "id": "PDlZ5U8cNcbA",
        "colab_type": "code",
        "colab": {
          "base_uri": "https://localhost:8080/",
          "height": 50
        },
        "outputId": "571898ef-0fa5-4372-c296-32e8c6327f72"
      },
      "source": [
        "#norma 2\n",
        "vector_2 = np.array([1,1])\n",
        "print(np.linalg.norm(vector_2, ord=2))\n",
        "print(np.linalg.norm(vector_2))"
      ],
      "execution_count": 26,
      "outputs": [
        {
          "output_type": "stream",
          "text": [
            "1.4142135623730951\n",
            "1.4142135623730951\n"
          ],
          "name": "stdout"
        }
      ]
    },
    {
      "cell_type": "code",
      "metadata": {
        "id": "6Ll9BCCBOO5G",
        "colab_type": "code",
        "colab": {
          "base_uri": "https://localhost:8080/",
          "height": 33
        },
        "outputId": "25249565-1318-4aca-854c-a649e6ba1f9f"
      },
      "source": [
        "#Norma L2 al cuadrado\n",
        "vector_3 = np.array([1,2,3,4,5,6])\n",
        "print(vector_3)"
      ],
      "execution_count": 27,
      "outputs": [
        {
          "output_type": "stream",
          "text": [
            "[1 2 3 4 5 6]\n"
          ],
          "name": "stdout"
        }
      ]
    },
    {
      "cell_type": "code",
      "metadata": {
        "id": "7ricW9SbO-Jh",
        "colab_type": "code",
        "colab": {
          "base_uri": "https://localhost:8080/",
          "height": 33
        },
        "outputId": "1b3869d8-5bf9-4cdf-d45b-514a31b44755"
      },
      "source": [
        "print(np.linalg.norm(vector_3, ord=2)**2)"
      ],
      "execution_count": 28,
      "outputs": [
        {
          "output_type": "stream",
          "text": [
            "91.0\n"
          ],
          "name": "stdout"
        }
      ]
    },
    {
      "cell_type": "code",
      "metadata": {
        "id": "aG8evA96PQTk",
        "colab_type": "code",
        "colab": {
          "base_uri": "https://localhost:8080/",
          "height": 33
        },
        "outputId": "6750238a-b865-42ad-8321-4fe4dc26c0ac"
      },
      "source": [
        "print(vector_3.T.dot(vector_3))"
      ],
      "execution_count": 29,
      "outputs": [
        {
          "output_type": "stream",
          "text": [
            "91\n"
          ],
          "name": "stdout"
        }
      ]
    },
    {
      "cell_type": "code",
      "metadata": {
        "id": "igCNYsp1PftZ",
        "colab_type": "code",
        "colab": {
          "base_uri": "https://localhost:8080/",
          "height": 33
        },
        "outputId": "1aa3ac55-e2ea-4aae-8c9e-32f7c37d558e"
      },
      "source": [
        "#norma infinito\n",
        "vector_4 = np.array([1,2,3,-100])\n",
        "print(np.linalg.norm(vector_4, ord=np.inf))"
      ],
      "execution_count": 30,
      "outputs": [
        {
          "output_type": "stream",
          "text": [
            "100.0\n"
          ],
          "name": "stdout"
        }
      ]
    },
    {
      "cell_type": "markdown",
      "metadata": {
        "id": "OK_39uhGQPwA",
        "colab_type": "text"
      },
      "source": [
        "#El producto interno como función de una norma y su visualización"
      ]
    },
    {
      "cell_type": "code",
      "metadata": {
        "id": "WO19vsHbQB3G",
        "colab_type": "code",
        "colab": {}
      },
      "source": [
        "# v1.T .dotv2 = norma2(v1)*norma2(v2)*cos(ang)\n",
        "\n",
        "v1 = np.array([0,0,0,3])\n",
        "v2 = np.array([0,0,3,3])\n"
      ],
      "execution_count": 31,
      "outputs": []
    },
    {
      "cell_type": "code",
      "metadata": {
        "id": "0HphviODR-1N",
        "colab_type": "code",
        "colab": {
          "base_uri": "https://localhost:8080/",
          "height": 268
        },
        "outputId": "b0c0a5a7-d9d3-443b-f108-aaedb941145f"
      },
      "source": [
        "plt.xlim(-2,6)\n",
        "plt.ylim(-2,6)\n",
        "\n",
        "plt.quiver([v1[0], v2[0]],\n",
        "           [v1[1], v2[1]],\n",
        "           [v1[2], v2[2]],\n",
        "           [v1[3], v2[3]],\n",
        "           angles = 'xy', scale_units = 'xy', scale = 1,\n",
        "           color= sns.color_palette()\n",
        "           )\n",
        "plt.show()"
      ],
      "execution_count": 32,
      "outputs": [
        {
          "output_type": "display_data",
          "data": {
            "image/png": "[encoded data removed]",
            "text/plain": [
              "<Figure size 432x288 with 1 Axes>"
            ]
          },
          "metadata": {
            "tags": [],
            "needs_background": "light"
          }
        }
      ]
    },
    {
      "cell_type": "code",
      "metadata": {
        "id": "J5DqXtXxTbJx",
        "colab_type": "code",
        "colab": {
          "base_uri": "https://localhost:8080/",
          "height": 33
        },
        "outputId": "b99e755b-6121-4347-ea38-763025302212"
      },
      "source": [
        "v1 = np.array([0,3])\n",
        "v2 = np.array([3,3])\n",
        "\n",
        "print(v1.T.dot(v2))"
      ],
      "execution_count": 33,
      "outputs": [
        {
          "output_type": "stream",
          "text": [
            "9\n"
          ],
          "name": "stdout"
        }
      ]
    },
    {
      "cell_type": "code",
      "metadata": {
        "id": "k6h2Q5pXVTX8",
        "colab_type": "code",
        "colab": {
          "base_uri": "https://localhost:8080/",
          "height": 33
        },
        "outputId": "f9cb9605-9084-4ac2-c3ef-d1886a0efac6"
      },
      "source": [
        "norma_v1 = np.linalg.norm(v1)\n",
        "norma_v2 = np.linalg.norm(v2)\n",
        "\n",
        "print(norma_v1 * norma_v2 * np.cos(np.deg2rad(45)))"
      ],
      "execution_count": 34,
      "outputs": [
        {
          "output_type": "stream",
          "text": [
            "9.0\n"
          ],
          "name": "stdout"
        }
      ]
    },
    {
      "cell_type": "markdown",
      "metadata": {
        "id": "oRKBSpf1WPDt",
        "colab_type": "text"
      },
      "source": [
        "#La matriz diagonal y la matriz simétrica: sus propiedades"
      ]
    },
    {
      "cell_type": "code",
      "metadata": {
        "id": "sHZ1e6ajV1Rp",
        "colab_type": "code",
        "colab": {
          "base_uri": "https://localhost:8080/",
          "height": 98
        },
        "outputId": "6d231be4-0b38-44ff-cb12-5a1cea4f04ae"
      },
      "source": [
        "#matriz diagonal\n",
        "vector = np.array([1,2,3,4,5])\n",
        "matriz = np.diag(vector)\n",
        "print(matriz)"
      ],
      "execution_count": 38,
      "outputs": [
        {
          "output_type": "stream",
          "text": [
            "[[1 0 0 0 0]\n",
            " [0 2 0 0 0]\n",
            " [0 0 3 0 0]\n",
            " [0 0 0 4 0]\n",
            " [0 0 0 0 5]]\n"
          ],
          "name": "stdout"
        }
      ]
    },
    {
      "cell_type": "code",
      "metadata": {
        "id": "9BFL263WXRXA",
        "colab_type": "code",
        "colab": {
          "base_uri": "https://localhost:8080/",
          "height": 82
        },
        "outputId": "ea837bd1-1891-4d01-9c10-c2d298e3196b"
      },
      "source": [
        "print(matriz[0:4,0:3])"
      ],
      "execution_count": 39,
      "outputs": [
        {
          "output_type": "stream",
          "text": [
            "[[1 0 0]\n",
            " [0 2 0]\n",
            " [0 0 3]\n",
            " [0 0 0]]\n"
          ],
          "name": "stdout"
        }
      ]
    },
    {
      "cell_type": "code",
      "metadata": {
        "id": "fZaRVEuiXywm",
        "colab_type": "code",
        "colab": {
          "base_uri": "https://localhost:8080/",
          "height": 66
        },
        "outputId": "94431dbc-8cfd-4243-d331-2cdcfb6ec52d"
      },
      "source": [
        "print(matriz[0:3,0:4])"
      ],
      "execution_count": 40,
      "outputs": [
        {
          "output_type": "stream",
          "text": [
            "[[1 0 0 0]\n",
            " [0 2 0 0]\n",
            " [0 0 3 0]]\n"
          ],
          "name": "stdout"
        }
      ]
    },
    {
      "cell_type": "code",
      "metadata": {
        "id": "2rLV0gY2YBGH",
        "colab_type": "code",
        "colab": {
          "base_uri": "https://localhost:8080/",
          "height": 82
        },
        "outputId": "15547325-e4c8-4dc7-8c28-b7599a035829"
      },
      "source": [
        "A = np.diag([2,3,4,5])\n",
        "print(A)"
      ],
      "execution_count": 41,
      "outputs": [
        {
          "output_type": "stream",
          "text": [
            "[[2 0 0 0]\n",
            " [0 3 0 0]\n",
            " [0 0 4 0]\n",
            " [0 0 0 5]]\n"
          ],
          "name": "stdout"
        }
      ]
    },
    {
      "cell_type": "markdown",
      "metadata": {
        "id": "UmsrFQ1Adiom",
        "colab_type": "text"
      },
      "source": [
        ""
      ]
    },
    {
      "cell_type": "markdown",
      "metadata": {
        "id": "s0g3ctXzdie5",
        "colab_type": "text"
      },
      "source": [
        ""
      ]
    },
    {
      "cell_type": "code",
      "metadata": {
        "id": "Ybwq_tXcYZrw",
        "colab_type": "code",
        "colab": {
          "base_uri": "https://localhost:8080/",
          "height": 98
        },
        "outputId": "f08271a3-9af2-4647-ebaf-b6319fb3280e"
      },
      "source": [
        "v1 = np.array([[1,1,1,1]])\n",
        "print(v1)\n",
        "\n",
        "print(A.dot(v1.T))"
      ],
      "execution_count": 42,
      "outputs": [
        {
          "output_type": "stream",
          "text": [
            "[[1 1 1 1]]\n",
            "[[2]\n",
            " [3]\n",
            " [4]\n",
            " [5]]\n"
          ],
          "name": "stdout"
        }
      ]
    },
    {
      "cell_type": "code",
      "metadata": {
        "id": "ln7x91QVY2U1",
        "colab_type": "code",
        "colab": {
          "base_uri": "https://localhost:8080/",
          "height": 82
        },
        "outputId": "976b92ff-ee29-48d6-b5c4-4f3fd508397e"
      },
      "source": [
        "A_inv = np.diag([1/2,1/3,1/4,1/5])\n",
        "print(A_inv)"
      ],
      "execution_count": 43,
      "outputs": [
        {
          "output_type": "stream",
          "text": [
            "[[0.5        0.         0.         0.        ]\n",
            " [0.         0.33333333 0.         0.        ]\n",
            " [0.         0.         0.25       0.        ]\n",
            " [0.         0.         0.         0.2       ]]\n"
          ],
          "name": "stdout"
        }
      ]
    },
    {
      "cell_type": "code",
      "metadata": {
        "id": "IOdarcm0iAig",
        "colab_type": "code",
        "colab": {
          "base_uri": "https://localhost:8080/",
          "height": 82
        },
        "outputId": "268f56db-e984-44a3-d825-125957cfadf1"
      },
      "source": [
        "identidad = A.dot(A_inv)\n",
        "print(identidad)"
      ],
      "execution_count": 44,
      "outputs": [
        {
          "output_type": "stream",
          "text": [
            "[[1. 0. 0. 0.]\n",
            " [0. 1. 0. 0.]\n",
            " [0. 0. 1. 0.]\n",
            " [0. 0. 0. 1.]]\n"
          ],
          "name": "stdout"
        }
      ]
    },
    {
      "cell_type": "code",
      "metadata": {
        "id": "oos08PfWipD6",
        "colab_type": "code",
        "colab": {
          "base_uri": "https://localhost:8080/",
          "height": 82
        },
        "outputId": "d520fd61-4d68-4621-fbbb-7590ff30b2a1"
      },
      "source": [
        "A_inv_calc = np.linalg.inv(A)\n",
        "print(A_inv_calc)"
      ],
      "execution_count": 45,
      "outputs": [
        {
          "output_type": "stream",
          "text": [
            "[[0.5        0.         0.         0.        ]\n",
            " [0.         0.33333333 0.         0.        ]\n",
            " [0.         0.         0.25       0.        ]\n",
            " [0.         0.         0.         0.2       ]]\n"
          ],
          "name": "stdout"
        }
      ]
    },
    {
      "cell_type": "code",
      "metadata": {
        "id": "6zUsjBoJjA78",
        "colab_type": "code",
        "colab": {
          "base_uri": "https://localhost:8080/",
          "height": 147
        },
        "outputId": "91867bf6-689b-4342-96d7-4ceef7e8316b"
      },
      "source": [
        "print(A.T)\n",
        "print(A)"
      ],
      "execution_count": 46,
      "outputs": [
        {
          "output_type": "stream",
          "text": [
            "[[2 0 0 0]\n",
            " [0 3 0 0]\n",
            " [0 0 4 0]\n",
            " [0 0 0 5]]\n",
            "[[2 0 0 0]\n",
            " [0 3 0 0]\n",
            " [0 0 4 0]\n",
            " [0 0 0 5]]\n"
          ],
          "name": "stdout"
        }
      ]
    },
    {
      "cell_type": "code",
      "metadata": {
        "id": "BGDPinasjQj3",
        "colab_type": "code",
        "colab": {
          "base_uri": "https://localhost:8080/",
          "height": 66
        },
        "outputId": "7cb1a9ff-e9a4-4da4-92da-ba49f0967517"
      },
      "source": [
        "simetrica = np.array([[1,2,3],\n",
        "                      [2,-1,7],\n",
        "                      [3,7,11]])\n",
        "print(simetrica)"
      ],
      "execution_count": 47,
      "outputs": [
        {
          "output_type": "stream",
          "text": [
            "[[ 1  2  3]\n",
            " [ 2 -1  7]\n",
            " [ 3  7 11]]\n"
          ],
          "name": "stdout"
        }
      ]
    },
    {
      "cell_type": "code",
      "metadata": {
        "id": "sD_zdezajz8K",
        "colab_type": "code",
        "colab": {
          "base_uri": "https://localhost:8080/",
          "height": 66
        },
        "outputId": "dbe55cf6-aaf8-4c57-ec07-2ed591e19633"
      },
      "source": [
        "print(simetrica.T)"
      ],
      "execution_count": 48,
      "outputs": [
        {
          "output_type": "stream",
          "text": [
            "[[ 1  2  3]\n",
            " [ 2 -1  7]\n",
            " [ 3  7 11]]\n"
          ],
          "name": "stdout"
        }
      ]
    },
    {
      "cell_type": "markdown",
      "metadata": {
        "id": "uk_SfYEkkY1J",
        "colab_type": "text"
      },
      "source": [
        "#Vectores ortogonales, matrices ortogonales y sus propiedades"
      ]
    },
    {
      "cell_type": "code",
      "metadata": {
        "id": "1M932L6mj_Bw",
        "colab_type": "code",
        "colab": {
          "base_uri": "https://localhost:8080/",
          "height": 285
        },
        "outputId": "3543b3d3-2eb8-43bf-b128-4026189a10c7"
      },
      "source": [
        "#vectores ortogonales\n",
        "x = np.array([0,0,2,2])\n",
        "y = np.array([0,0,2,-2])\n",
        "\n",
        "plt.quiver([x[0], y[0]],\n",
        "           [x[1], y[1]],\n",
        "           [x[2], y[2]],\n",
        "           [x[3], y[3]],\n",
        "           angles = 'xy', scale_units = 'xy',scale=1,\n",
        "           )\n",
        "\n",
        "plt.xlim(-2,4)\n",
        "plt.ylim(-3,3)"
      ],
      "execution_count": 49,
      "outputs": [
        {
          "output_type": "execute_result",
          "data": {
            "text/plain": [
              "(-3.0, 3.0)"
            ]
          },
          "metadata": {
            "tags": []
          },
          "execution_count": 49
        },
        {
          "output_type": "display_data",
          "data": {
            "image/png": "[encoded data removed]",
            "text/plain": [
              "<Figure size 432x288 with 1 Axes>"
            ]
          },
          "metadata": {
            "tags": [],
            "needs_background": "light"
          }
        }
      ]
    },
    {
      "cell_type": "code",
      "metadata": {
        "id": "t-uibDUIlrEO",
        "colab_type": "code",
        "colab": {
          "base_uri": "https://localhost:8080/",
          "height": 50
        },
        "outputId": "f0b57a60-ee79-4724-fa52-e8078666c84e"
      },
      "source": [
        "v1 = np.array([[2,2]])\n",
        "v2 = np.array([[2,-2]])\n",
        "\n",
        "print(v1)\n",
        "print(v2)"
      ],
      "execution_count": 50,
      "outputs": [
        {
          "output_type": "stream",
          "text": [
            "[[2 2]]\n",
            "[[ 2 -2]]\n"
          ],
          "name": "stdout"
        }
      ]
    },
    {
      "cell_type": "code",
      "metadata": {
        "id": "HCtW7EoUl-i5",
        "colab_type": "code",
        "colab": {
          "base_uri": "https://localhost:8080/",
          "height": 33
        },
        "outputId": "5a050c9b-1475-44b1-d3ec-69088f28df22"
      },
      "source": [
        "print(v1.dot(v2.T))"
      ],
      "execution_count": 51,
      "outputs": [
        {
          "output_type": "stream",
          "text": [
            "[[0]]\n"
          ],
          "name": "stdout"
        }
      ]
    },
    {
      "cell_type": "code",
      "metadata": {
        "id": "TpZhEmWymK3r",
        "colab_type": "code",
        "colab": {
          "base_uri": "https://localhost:8080/",
          "height": 50
        },
        "outputId": "61fb0582-7e22-4725-a158-fe658e83e1b1"
      },
      "source": [
        "print(np.linalg.norm(v1))\n",
        "print(np.linalg.norm(v2))"
      ],
      "execution_count": 52,
      "outputs": [
        {
          "output_type": "stream",
          "text": [
            "2.8284271247461903\n",
            "2.8284271247461903\n"
          ],
          "name": "stdout"
        }
      ]
    },
    {
      "cell_type": "code",
      "metadata": {
        "id": "D17QhxvSmZpL",
        "colab_type": "code",
        "colab": {
          "base_uri": "https://localhost:8080/",
          "height": 33
        },
        "outputId": "60382193-ec23-49e0-e873-a0092d3f7f72"
      },
      "source": [
        "v1 = np.array([[1,0]])\n",
        "v2 = np.array([[0,1]])\n",
        "print(v1.dot(v2.T))"
      ],
      "execution_count": 53,
      "outputs": [
        {
          "output_type": "stream",
          "text": [
            "[[0]]\n"
          ],
          "name": "stdout"
        }
      ]
    },
    {
      "cell_type": "code",
      "metadata": {
        "id": "SZamTctarAtU",
        "colab_type": "code",
        "colab": {}
      },
      "source": [
        "print(np.linalg.norm(v1))\n",
        "print(np.linalg.norm(v2))"
      ],
      "execution_count": null,
      "outputs": []
    },
    {
      "cell_type": "code",
      "metadata": {
        "id": "W6wXdxmsrG3S",
        "colab_type": "code",
        "colab": {}
      },
      "source": [
        ""
      ],
      "execution_count": null,
      "outputs": []
    },
    {
      "cell_type": "code",
      "metadata": {
        "id": "91qboQ6urjNE",
        "colab_type": "code",
        "colab": {}
      },
      "source": [
        ""
      ],
      "execution_count": null,
      "outputs": []
    }
  ]
}