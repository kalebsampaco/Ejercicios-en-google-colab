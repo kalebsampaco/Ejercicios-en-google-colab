{
  "nbformat": 4,
  "nbformat_minor": 0,
  "metadata": {
    "colab": {
      "name": "prueba mnist redes neuronales convolucionales.ipynb",
      "provenance": [],
      "authorship_tag": "ABX9TyMXY1fUJzR1cc0tjmWBmk5L",
      "include_colab_link": true
    },
    "kernelspec": {
      "name": "python3",
      "display_name": "Python 3"
    }
  },
  "cells": [
    {
      "cell_type": "markdown",
      "metadata": {
        "id": "view-in-github",
        "colab_type": "text"
      },
      "source": [
        "<a href=\"https://colab.research.google.com/github/kalebsampaco/Ejercicios-en-google-colab/blob/master/prueba_mnist_redes_neuronales_convolucionales.ipynb\" target=\"_parent\"><img src=\"https://colab.research.google.com/assets/colab-badge.svg\" alt=\"Open In Colab\"/></a>"
      ]
    },
    {
      "cell_type": "code",
      "metadata": {
        "id": "07mqMT-qy5uu",
        "colab_type": "code",
        "colab": {
          "base_uri": "https://localhost:8080/",
          "height": 34
        },
        "outputId": "2a18e23a-8ccb-4524-d01f-ddb5d23f1825"
      },
      "source": [
        "import tensorflow as tf\n",
        "import keras\n",
        "import numpy as np\n",
        "from keras.datasets import mnist\n",
        "from keras.models import Sequential,Model\n",
        "from keras.layers import Dense,Dropout,Flatten,Conv2D,MaxPooling2D,Input\n",
        "from keras import backend as K\n",
        "from keras.callbacks import TensorBoard"
      ],
      "execution_count": 2,
      "outputs": [
        {
          "output_type": "stream",
          "text": [
            "Using TensorFlow backend.\n"
          ],
          "name": "stderr"
        }
      ]
    },
    {
      "cell_type": "code",
      "metadata": {
        "id": "udUhJdhY2pki",
        "colab_type": "code",
        "colab": {
          "base_uri": "https://localhost:8080/",
          "height": 632
        },
        "outputId": "95f1ae88-cd30-495a-8d37-b768f3160a1c"
      },
      "source": [
        "batch_size=100\n",
        "num_classes=10\n",
        "epochs=10\n",
        "filas, columnas=28,28\n",
        "\n",
        "(xt,yt), (xtest,ytest)=mnist.load_data()\n",
        "\n",
        "xt=xt.reshape(xt.shape[0],filas,columnas,1)\n",
        "xtest=xtest.reshape(xtest.shape[0], filas,columnas,1)\n",
        "\n",
        "xt=xt.astype('float32')\n",
        "xtest=xtest.astype('float32')\n",
        "\n",
        "xt=xt/255\n",
        "xtest=xtest/255\n",
        "\n",
        "yt=keras.utils.to_categorical(yt,num_classes)\n",
        "ytest=keras.utils.to_categorical(ytest,num_classes)\n",
        "\n",
        "Entradas=Input(shape=(28,28,1))\n",
        "x=Conv2D(64,kernel_size=(3,3),activation='relu')(Entradas)\n",
        "x=Conv2D(128,kernel_size=(3,3),activation='relu')(x)\n",
        "x=MaxPooling2D(pool_size=(2,2))(x)\n",
        "x=Flatten()(x)\n",
        "x=Dense(68,activation='relu')(x)\n",
        "x=Dropout(0,25)(x)\n",
        "x=Dense(28,activation='relu')(x)\n",
        "x=Dropout(0,25)(x)\n",
        "x=Dense(num_classes,activation='softmax')(x)\n",
        "\n",
        "modelo=Model(inputs=Entradas, outputs=x)\n",
        "modelo.summary()\n",
        "\n",
        "modelo.compile(loss=keras.losses.categorical_crossentropy,optimizer=keras.optimizers.Adam(),metrics=['categorical_accuracy'])\n",
        "\n",
        "modelo.fit(xt,yt,batch_size=batch_size,epochs=epochs,verbose=1,validation_data=(xtest,ytest))\n",
        "\n",
        "puntuacion=modelo.evaluate(xtest,ytest, verbose=1)\n",
        "\n",
        "print(puntuacion)"
      ],
      "execution_count": 0,
      "outputs": [
        {
          "output_type": "stream",
          "text": [
            "Model: \"model_1\"\n",
            "_________________________________________________________________\n",
            "Layer (type)                 Output Shape              Param #   \n",
            "=================================================================\n",
            "input_3 (InputLayer)         (None, 28, 28, 1)         0         \n",
            "_________________________________________________________________\n",
            "conv2d_3 (Conv2D)            (None, 26, 26, 64)        640       \n",
            "_________________________________________________________________\n",
            "conv2d_4 (Conv2D)            (None, 24, 24, 128)       73856     \n",
            "_________________________________________________________________\n",
            "max_pooling2d_2 (MaxPooling2 (None, 12, 12, 128)       0         \n",
            "_________________________________________________________________\n",
            "flatten_2 (Flatten)          (None, 18432)             0         \n",
            "_________________________________________________________________\n",
            "dense_4 (Dense)              (None, 68)                1253444   \n",
            "_________________________________________________________________\n",
            "dropout_3 (Dropout)          (None, 68)                0         \n",
            "_________________________________________________________________\n",
            "dense_5 (Dense)              (None, 28)                1932      \n",
            "_________________________________________________________________\n",
            "dropout_4 (Dropout)          (None, 28)                0         \n",
            "_________________________________________________________________\n",
            "dense_6 (Dense)              (None, 10)                290       \n",
            "=================================================================\n",
            "Total params: 1,330,162\n",
            "Trainable params: 1,330,162\n",
            "Non-trainable params: 0\n",
            "_________________________________________________________________\n",
            "Train on 60000 samples, validate on 10000 samples\n",
            "Epoch 1/10\n",
            "60000/60000 [==============================] - 285s 5ms/step - loss: 0.1631 - categorical_accuracy: 0.9503 - val_loss: 0.0471 - val_categorical_accuracy: 0.9845\n",
            "Epoch 2/10\n",
            "60000/60000 [==============================] - 283s 5ms/step - loss: 0.0460 - categorical_accuracy: 0.9857 - val_loss: 0.0355 - val_categorical_accuracy: 0.9892\n",
            "Epoch 3/10\n",
            "42800/60000 [====================>.........] - ETA: 1:18 - loss: 0.0279 - categorical_accuracy: 0.9912"
          ],
          "name": "stdout"
        }
      ]
    },
    {
      "cell_type": "code",
      "metadata": {
        "id": "xKUI4F4qgBIk",
        "colab_type": "code",
        "colab": {}
      },
      "source": [
        ""
      ],
      "execution_count": 0,
      "outputs": []
    }
  ]
}