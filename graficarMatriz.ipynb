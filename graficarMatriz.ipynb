{
  "nbformat": 4,
  "nbformat_minor": 0,
  "metadata": {
    "colab": {
      "name": "graficarMatriz.ipynb",
      "provenance": [],
      "collapsed_sections": [],
      "authorship_tag": "ABX9TyP94Io7g07j+kXMbMMh4HoT",
      "include_colab_link": true
    },
    "kernelspec": {
      "name": "python3",
      "display_name": "Python 3"
    }
  },
  "cells": [
    {
      "cell_type": "markdown",
      "metadata": {
        "id": "view-in-github",
        "colab_type": "text"
      },
      "source": [
        "<a href=\"https://colab.research.google.com/github/kalebsampaco/Ejercicios-en-google-colab/blob/master/graficarMatriz.ipynb\" target=\"_parent\"><img src=\"https://colab.research.google.com/assets/colab-badge.svg\" alt=\"Open In Colab\"/></a>"
      ]
    },
    {
      "cell_type": "code",
      "metadata": {
        "id": "fxlMj1kCFVWe",
        "colab_type": "code",
        "colab": {}
      },
      "source": [
        "def graficarMatriz(matriz, vectorCol=['green','blue']):\n",
        "  #circulo unitario\n",
        "  x np.linspace(-1,1, 100000)\n",
        "  y = np.sqrt(1-(x**2))\n",
        "\n",
        "  #circulo umitario transformado\n",
        "  x1 = matriz[0,0]*x + matriz[0,1]*y\n",
        "  y1 = matriz[1,0]*x + matriz[1,1]*y\n",
        "  x1_neg = matriz[0,0]*x - matriz[0,1]*y\n",
        "  y1_neg = matriz[1,0]*x - matriz[1,1]*y\n",
        "\n",
        "  #vectores\n",
        "  u1 = [matriz[0,0], matriz[1,0]]\n",
        "  v1 = [matriz[0,1], matriz[1,1]]\n",
        "\n",
        "  graficarVectores([u1, v1], cols=[vectorCol[0], vectorCol[1]])\n",
        "\n",
        "  plt.plot(x1,y1, 'green', alpha =0.7)\n",
        "  plt.plot(x1_neg,y1_neg, 'green', alpha =0.7)"
      ],
      "execution_count": null,
      "outputs": []
    }
  ]
}